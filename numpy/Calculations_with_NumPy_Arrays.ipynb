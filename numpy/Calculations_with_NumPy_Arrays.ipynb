{
  "cells": [
    {
      "cell_type": "markdown",
      "metadata": {
        "id": "a0J1t54eut_D"
      },
      "source": [
        "# Calculations with NumPy Arrays\n",
        "\n",
        "One of the most powerful features of NumPy is the operations you can perform on its arrays. In this notebook we will cover the topics of:\n",
        "\n",
        "- Mathematical operations\n",
        "- Statistical operations\n",
        "- Sorting and advanced indexing"
      ]
    },
    {
      "cell_type": "markdown",
      "metadata": {
        "id": "hD_V6R1AwbEa"
      },
      "source": [
        "## Basic Mathematical Operations\n",
        "\n",
        "NumPy allows us to use mathematical operators such as `+` and `*` to perform *element-wise* operations. This means that these operations are applied element by element."
      ]
    },
    {
      "cell_type": "code",
      "execution_count": 1,
      "metadata": {
        "colab": {
          "base_uri": "https://localhost:8080/"
        },
        "id": "vKxcW91Ruq9Q",
        "outputId": "cbcd81da-2e98-454f-a419-1b0abd5ac4d8"
      },
      "outputs": [
        {
          "name": "stdout",
          "output_type": "stream",
          "text": [
            "[20 30 40 50]\n",
            "[1 2 3 4]\n"
          ]
        }
      ],
      "source": [
        "import numpy as np\n",
        "\n",
        "a = np.array([20,30,40,50])\n",
        "b = np.arange(1, 5)\n",
        "print(a)\n",
        "print(b)"
      ]
    },
    {
      "cell_type": "code",
      "execution_count": 2,
      "metadata": {
        "colab": {
          "base_uri": "https://localhost:8080/"
        },
        "id": "Ne9yUyGDxBs0",
        "outputId": "8c5afc63-ad53-4d6c-f658-ff4534e65391"
      },
      "outputs": [
        {
          "name": "stdout",
          "output_type": "stream",
          "text": [
            "Subtraction:\t [19 28 37 46]\n",
            "Addition:\t [21 32 43 54]\n",
            "Multiplication:\t [ 20  60 120 200]\n",
            "Division:\t [20.         15.         13.33333333 12.5       ]\n",
            "Exponentiation:\t [     20     900   64000 6250000]\n"
          ]
        }
      ],
      "source": [
        "print('Subtraction:\\t', a - b)\n",
        "print('Addition:\\t', a + b)\n",
        "print('Multiplication:\\t', a * b)\n",
        "print('Division:\\t', a / b)\n",
        "print('Exponentiation:\\t', a ** b)"
      ]
    },
    {
      "cell_type": "markdown",
      "metadata": {
        "id": "OOkQkEDhyqsx"
      },
      "source": [
        "Note that to perform these operations, the arrays must have compatible sizes. In simple cases this means that arrays must have the same shapes."
      ]
    },
    {
      "cell_type": "code",
      "execution_count": 3,
      "metadata": {
        "colab": {
          "base_uri": "https://localhost:8080/"
        },
        "id": "MDPOo0GwyObq",
        "outputId": "1e7facb5-dcdf-4095-c02a-579ef1512def"
      },
      "outputs": [
        {
          "name": "stdout",
          "output_type": "stream",
          "text": [
            "[20 30 40 50 60 70]\n",
            "[1 2 3 4]\n",
            "Error: operands could not be broadcast together with shapes (6,) (4,) \n"
          ]
        }
      ],
      "source": [
        "a1 = np.r_[a, 60, 70]\n",
        "print(a1)\n",
        "print(b)\n",
        "try:\n",
        "    print(a1 + b)\n",
        "except ValueError as e:\n",
        "    print('Error:', e)"
      ]
    },
    {
      "cell_type": "markdown",
      "metadata": {
        "id": "6a6LN-ZG0J5h"
      },
      "source": [
        "NumPy deals with differences in shape using its *broadcasting rules*, which is where this error message is coming from. The error is telling us that NumPy tried to perform the operation after applying the broadcasting rules but still couldn't do it, so basically the shapes of these arrays were incompatiable for addition.\n",
        "\n",
        "For a quick summary of the broadcasting rules see [here](https://numpy.org/doc/stable/user/quickstart.html#broadcasting-rules). We'll return to this topic later to learn more about it."
      ]
    },
    {
      "cell_type": "markdown",
      "metadata": {
        "id": "bSjIp2s81sbi"
      },
      "source": [
        "NumPy also allows you to perform the same operation to each element, for example to multiply each element in an array by 2, or to add 15 onto each element."
      ]
    },
    {
      "cell_type": "code",
      "execution_count": 15,
      "metadata": {
        "colab": {
          "base_uri": "https://localhost:8080/"
        },
        "id": "nqwtSL032IHH",
        "outputId": "eed7d882-a8c4-4eca-f574-d80530d19d0d"
      },
      "outputs": [
        {
          "name": "stdout",
          "output_type": "stream",
          "text": [
            "[1 2 3 4]\n",
            "[2 4 6 8]\n",
            "[16 17 18 19]\n"
          ]
        }
      ],
      "source": [
        "print(b)\n",
        "print(b * 2)\n",
        "print(b + 15)"
      ]
    },
    {
      "cell_type": "markdown",
      "metadata": {
        "id": "AcM8VpXf2gu2"
      },
      "source": [
        "We can also check conditions against each element in an array, for example to check if each element is less than 40."
      ]
    },
    {
      "cell_type": "code",
      "execution_count": 5,
      "metadata": {
        "colab": {
          "base_uri": "https://localhost:8080/"
        },
        "id": "SAY2R8M92rNE",
        "outputId": "d88e2be8-7178-4f08-8254-b1554881e3da"
      },
      "outputs": [
        {
          "name": "stdout",
          "output_type": "stream",
          "text": [
            "[ 20  60 120 200]\n",
            "[ True False False False]\n",
            "[1 2 3 4]\n",
            "[ True  True  True  True]\n"
          ]
        }
      ],
      "source": [
        "print(a)\n",
        "print(a < 40)\n",
        "print(b)\n",
        "print(b < 40)"
      ]
    },
    {
      "cell_type": "markdown",
      "metadata": {
        "id": "ntxMpPtM3NIo"
      },
      "source": [
        "We can update arrays in-place with arithmetic operations similar to how we do it in Python: we place the arithmetic operation symbol to the left of the equals sign, e.g. `+=`."
      ]
    },
    {
      "cell_type": "code",
      "execution_count": 13,
      "metadata": {
        "colab": {
          "base_uri": "https://localhost:8080/"
        },
        "id": "h4A2FlZK3fcq",
        "outputId": "db0edf74-6eb0-4128-d4fd-c0ec13c9dc44"
      },
      "outputs": [
        {
          "name": "stdout",
          "output_type": "stream",
          "text": [
            "[ 20  60 120 200]\n",
            "[ 23  63 123 203]\n"
          ]
        }
      ],
      "source": [
        "a1 = a.copy()\n",
        "print(a1)\n",
        "a1 += 3\n",
        "print(a1)"
      ]
    },
    {
      "cell_type": "code",
      "execution_count": 14,
      "metadata": {
        "colab": {
          "base_uri": "https://localhost:8080/"
        },
        "id": "zdVSx3Mx30fx",
        "outputId": "558fc654-c9ab-4320-911c-affe0dc77839"
      },
      "outputs": [
        {
          "name": "stdout",
          "output_type": "stream",
          "text": [
            "[ 20  60 120 200]\n",
            "[ 23  63 123 203]\n"
          ]
        }
      ],
      "source": [
        "# The above is the same as\n",
        "print(a)\n",
        "a = a + 3\n",
        "print(a)"
      ]
    },
    {
      "cell_type": "code",
      "execution_count": 4,
      "metadata": {
        "colab": {
          "base_uri": "https://localhost:8080/"
        },
        "id": "VMysvZbs32iN",
        "outputId": "8b289d03-e8e8-46d4-dfe6-409ee3754307"
      },
      "outputs": [
        {
          "name": "stdout",
          "output_type": "stream",
          "text": [
            "[20 30 40 50]\n",
            "[1 2 3 4]\n",
            "[ 20  60 120 200]\n"
          ]
        }
      ],
      "source": [
        "# We can also put arrays on the right hand side\n",
        "print(a)\n",
        "print(b)\n",
        "a *= b\n",
        "print(a)"
      ]
    },
    {
      "cell_type": "markdown",
      "metadata": {
        "id": "Lps2_Kvp4i3c"
      },
      "source": [
        "**Challenge:** Create two arrays with shapes (2, 3), update the first one so its values are multiplied by 2, then update the second one by adding the first to it.\n",
        "\n",
        "Look carefully at the resulting numbers and make sure you understand how each is computed."
      ]
    },
    {
      "cell_type": "code",
      "execution_count": null,
      "metadata": {
        "colab": {
          "base_uri": "https://localhost:8080/"
        },
        "id": "XWkOskv243mC",
        "outputId": "ade4f4c5-5258-4002-bf28-8123c4b03308"
      },
      "outputs": [
        {
          "name": "stdout",
          "output_type": "stream",
          "text": [
            "[[1 2 3]\n",
            " [4 5 6]]\n",
            "[[ 7  8  9]\n",
            " [10 11 12]]\n",
            "[[ 2  4  6]\n",
            " [ 8 10 12]]\n",
            "[[ 9 12 15]\n",
            " [18 21 24]]\n"
          ]
        }
      ],
      "source": [
        "arr1 = np.arange(1,7).reshape((2,3))\n",
        "print(arr1)\n",
        "arr2 = np.arange(7,13).reshape((2,3))\n",
        "print(arr2)\n",
        "arr1 *= 2\n",
        "print(arr1)\n",
        "arr2 += arr1\n",
        "print(arr2)\n",
        "\n",
        "# a1 = np.array([2, 4, 6, 8, 10, 12]).reshape((2, 3))\n",
        "# a2 = np.array([20, 25, 30, 35, 40, 45]).reshape((2, 3))\n",
        "# a1 *= 2\n",
        "# a2 += a1\n",
        "# print(a1)\n",
        "# print(a2)"
      ]
    },
    {
      "cell_type": "markdown",
      "metadata": {
        "id": "y5SYHkU95cg5"
      },
      "source": [
        "## Statistical Operations\n",
        "\n",
        "NumPy supports many unary operations to compute statistics about our arrays, such as minimums, maximums, and averages."
      ]
    },
    {
      "cell_type": "markdown",
      "metadata": {
        "id": "EDJIedFG6tqg"
      },
      "source": [
        "We can sum values in our arrays. We can either sum all elements, or sum along a particular axis."
      ]
    },
    {
      "cell_type": "code",
      "execution_count": 43,
      "metadata": {
        "colab": {
          "base_uri": "https://localhost:8080/"
        },
        "id": "uEGZO8Ga6ym2",
        "outputId": "4bd2d5d6-3674-4619-fb9f-23561186c7b5"
      },
      "outputs": [
        {
          "name": "stdout",
          "output_type": "stream",
          "text": [
            "[[ 0  1  2  3]\n",
            " [ 4  5  6  7]\n",
            " [ 8  9 10 11]]\n",
            "66\n"
          ]
        }
      ],
      "source": [
        "b = np.arange(12).reshape(3,4)\n",
        "print(b)\n",
        "# Sum all the elements, effectively 0+1+2+...+9+10+11\n",
        "print(b.sum())"
      ]
    },
    {
      "cell_type": "code",
      "execution_count": null,
      "metadata": {
        "colab": {
          "base_uri": "https://localhost:8080/"
        },
        "id": "lL1Hpii-8XIn",
        "outputId": "82fd2d67-6048-4fe9-93ce-321a78ed4e33"
      },
      "outputs": [
        {
          "name": "stdout",
          "output_type": "stream",
          "text": [
            "[12 15 18 21]\n",
            "[0 1 2 3]\n",
            "6\n",
            "[[ 0  1  2  3]\n",
            " [ 4  5  6  7]\n",
            " [ 8  9 10 11]]\n"
          ]
        }
      ],
      "source": [
        "# Sum along axis 0, meaning add each row together\n",
        "print(b.sum(axis=0))\n",
        "# sum_of_b_0 = b.sum(axis=0)\n",
        "# print(sum_of_b_0)\n",
        "# The above is effectively the same as doing this\n",
        "t = b[0].copy() # copy of the b[0:1, :]\n",
        "sum_t = t.sum() # sum of the [0123]\n",
        "print(t)\n",
        "print(sum_t) \n",
        "# print(b)\n",
        "\n",
        "# Challenge question: why do we have to use copy?\n",
        "# for row in b[1:]:\n",
        "#     print(row)\n",
        "#     t += row\n",
        "# print(t)"
      ]
    },
    {
      "cell_type": "code",
      "execution_count": 45,
      "metadata": {
        "colab": {
          "base_uri": "https://localhost:8080/"
        },
        "id": "UILCgTPG8ldN",
        "outputId": "2355d83a-1eac-40aa-8766-4a953ce518e4"
      },
      "outputs": [
        {
          "name": "stdout",
          "output_type": "stream",
          "text": [
            "[ 6 22 38]\n"
          ]
        }
      ],
      "source": [
        "# Sum along axis 1, meaning add each column together\n",
        "print(b.sum(axis=1))"
      ]
    },
    {
      "cell_type": "markdown",
      "metadata": {
        "id": "sVgRnm1S-Dcs"
      },
      "source": [
        "This pattern of having an `axis` parameter is used frequently for methods in NumPy, here's a few more examples."
      ]
    },
    {
      "cell_type": "code",
      "execution_count": 49,
      "metadata": {
        "colab": {
          "base_uri": "https://localhost:8080/"
        },
        "id": "jIIYrbil-PqM",
        "outputId": "509342e9-ebe1-4f60-982e-0caabad581aa"
      },
      "outputs": [
        {
          "name": "stdout",
          "output_type": "stream",
          "text": [
            "[[ 0  1  2  3]\n",
            " [ 4  5  6  7]\n",
            " [ 8  9 10 11]]\n",
            "0\n",
            "11\n",
            "[0 4 8]\n",
            "[ 8  9 10 11]\n",
            "[[ 0  1  3  6]\n",
            " [ 4  9 15 22]\n",
            " [ 8 17 27 38]]\n"
          ]
        }
      ],
      "source": [
        "print(b)\n",
        "print(b.min())\n",
        "print(b.max())\n",
        "print(b.min(axis=1)) # Gives the min across all rows\n",
        "print(b.max(axis=0)) # Gives the max across all columns\n",
        "# The cumulative sum across the columns\n",
        "print(b.cumsum(axis=1))"
      ]
    },
    {
      "cell_type": "markdown",
      "metadata": {
        "id": "ScjL46v-_BBb"
      },
      "source": [
        "NumPy also provides useful mathematical functions such as sin, cos, and square root. These apply the operations on every element."
      ]
    },
    {
      "cell_type": "code",
      "execution_count": 50,
      "metadata": {
        "colab": {
          "base_uri": "https://localhost:8080/"
        },
        "id": "BFzQgCXc_X3P",
        "outputId": "0dc21c4f-c510-4283-8579-b39f36bf75f4"
      },
      "outputs": [
        {
          "name": "stdout",
          "output_type": "stream",
          "text": [
            "[[ 0.          0.84147098  0.90929743  0.14112001]\n",
            " [-0.7568025  -0.95892427 -0.2794155   0.6569866 ]\n",
            " [ 0.98935825  0.41211849 -0.54402111 -0.99999021]]\n",
            "[[ 1.          0.54030231 -0.41614684 -0.9899925 ]\n",
            " [-0.65364362  0.28366219  0.96017029  0.75390225]\n",
            " [-0.14550003 -0.91113026 -0.83907153  0.0044257 ]]\n",
            "[[0.         1.         1.41421356 1.73205081]\n",
            " [2.         2.23606798 2.44948974 2.64575131]\n",
            " [2.82842712 3.         3.16227766 3.31662479]]\n"
          ]
        }
      ],
      "source": [
        "print(np.sin(b))\n",
        "print(np.cos(b))\n",
        "print(np.sqrt(b))"
      ]
    },
    {
      "cell_type": "markdown",
      "metadata": {
        "id": "K3fif5k4_juz"
      },
      "source": [
        "## Advanced Topics"
      ]
    },
    {
      "cell_type": "markdown",
      "metadata": {
        "id": "G23sYKp9_1i2"
      },
      "source": [
        "### Applying Functions\n",
        "\n",
        "If you have a more complex operation to perform on an array, you might want to use `apply_along_axis`. This applies a function to the one-dimensional slices along a given axis.\n",
        "\n",
        "For example say we wanted to compute the average of the first and last elements of each row or column in an array."
      ]
    },
    {
      "cell_type": "code",
      "execution_count": 65,
      "metadata": {
        "colab": {
          "base_uri": "https://localhost:8080/"
        },
        "id": "nxmDJ5rPAVqV",
        "outputId": "c231fc9a-5ad7-411c-b58a-daf0d385fbbf"
      },
      "outputs": [
        {
          "name": "stdout",
          "output_type": "stream",
          "text": [
            "[1 4 7]\n",
            "[2 5 8]\n",
            "[3 6 9]\n",
            "[4. 5. 6.]\n"
          ]
        }
      ],
      "source": [
        "def my_func(a):\n",
        "    \"\"\"Average first and last element of a 1-D array\"\"\"\n",
        "    # print(a[0:3])\n",
        "    print(a)\n",
        "\n",
        "    return (a[0] + a[-1]) * 0.5\n",
        "\n",
        "b = np.array([[1,2,3],\n",
        "              [4,5,6],\n",
        "              [7,8,9]])\n",
        "\n",
        "print(np.apply_along_axis(my_func, 0, b)) # Averages along the columns\n",
        "# print(np.apply_along_axis(my_func, 1, b)) # Averages along  teh rows"
      ]
    },
    {
      "cell_type": "markdown",
      "metadata": {
        "id": "OnXn_3f4B2hz"
      },
      "source": [
        "Look at how the slices are passed in to our function by NumPy, it may be counter intuitive at first. You can think of it as NumPy taking a knife and slicing the array in the direction of the axis you specified, then passing those slices to our function.\n",
        "\n",
        "So if we say `axis=0`, NumPy slices *down* because the rows are stacked *vertically*.\n",
        "\n",
        "If we say `axis=1`, NumPy slices *right* because the columns are stacked *horizontally*."
      ]
    },
    {
      "cell_type": "markdown",
      "metadata": {
        "id": "mCalq7SoHRJs"
      },
      "source": [
        "**Challenge:** Write code to multiply all the values in each row and replace each row with the result."
      ]
    },
    {
      "cell_type": "code",
      "execution_count": 71,
      "metadata": {
        "colab": {
          "base_uri": "https://localhost:8080/"
        },
        "id": "oAlcGq2tH39F",
        "outputId": "69601d25-01d9-4143-b03e-718921bfcf21"
      },
      "outputs": [
        {
          "name": "stdout",
          "output_type": "stream",
          "text": [
            "[  6 120 504]\n"
          ]
        }
      ],
      "source": [
        "def prod(a):\n",
        "    # r = a[0]\n",
        "    r = 1\n",
        "    for value in a:\n",
        "        r *= value\n",
        "    return r\n",
        "# print(np.apply_along_axis(prod, 1, b))\n",
        "\n",
        "# ...or equivalently\n",
        "# print(np.apply_along_axis(np.prod, 1, b))\n",
        "\n",
        "# ...or\n",
        "print(np.prod(b, axis=1))"
      ]
    },
    {
      "cell_type": "markdown",
      "metadata": {
        "id": "4USvgUuoA3UQ"
      },
      "source": [
        "### Sorting\n",
        "\n",
        "As another example, say you wanted to sort the values in each row.\n",
        "\n",
        "**Challenge:** Before we write the code, which axis do we need to specify to get the values in each row?\n"
      ]
    },
    {
      "cell_type": "code",
      "execution_count": 73,
      "metadata": {
        "colab": {
          "base_uri": "https://localhost:8080/"
        },
        "id": "7KSEAYSbA-bN",
        "outputId": "5fadadfa-eda8-4548-b71b-2c6ee86699f9"
      },
      "outputs": [
        {
          "name": "stdout",
          "output_type": "stream",
          "text": [
            "[[8 1 7]\n",
            " [4 3 9]\n",
            " [5 2 6]]\n",
            "[[1 7 8]\n",
            " [3 4 9]\n",
            " [2 5 6]]\n"
          ]
        }
      ],
      "source": [
        "b = np.array([[8,1,7], [4,3,9], [5,2,6]])\n",
        "print(b)\n",
        "print(np.apply_along_axis(sorted, 1, b))"
      ]
    },
    {
      "cell_type": "markdown",
      "metadata": {
        "id": "PTBBidhEC5NC"
      },
      "source": [
        "Another way to perform this sorting is to use the `sort` function of NumPy. This also allows us to specify axes to sort."
      ]
    },
    {
      "cell_type": "code",
      "execution_count": 78,
      "metadata": {
        "colab": {
          "base_uri": "https://localhost:8080/"
        },
        "id": "IYtVBIdiDiAX",
        "outputId": "69bc411a-a6fb-4d85-bf29-ace22c0b15a8"
      },
      "outputs": [
        {
          "name": "stdout",
          "output_type": "stream",
          "text": [
            "[[8 1 7]\n",
            " [4 3 9]\n",
            " [5 2 6]]\n",
            "[[1 7 8]\n",
            " [3 4 9]\n",
            " [2 5 6]]\n",
            "[[4 1 6]\n",
            " [5 2 7]\n",
            " [8 3 9]]\n",
            "[1 2 3 4 5 6 7 8 9]\n"
          ]
        }
      ],
      "source": [
        "print(b)\n",
        "print(np.sort(b)) # Sorts along the last axis, so the columns in this case\n",
        "print(np.sort(b, axis=0)) # Sorts along the rows\n",
        "# print(np.sort(b, axis=1)) # Sorts along the columns\n",
        "print(np.sort(b, axis=None))"
      ]
    },
    {
      "cell_type": "markdown",
      "metadata": {
        "id": "3YmZXSuMEA-Q"
      },
      "source": [
        "The above function, `np.sort`, returns a sorted copy of the array. If you want to sort the array in place you can use the `sort` method on the array itself."
      ]
    },
    {
      "cell_type": "code",
      "execution_count": 262,
      "metadata": {
        "colab": {
          "base_uri": "https://localhost:8080/"
        },
        "id": "PQCW3nfREPKO",
        "outputId": "ceedd3e2-1224-46bb-c07c-bf2686b64687"
      },
      "outputs": [],
      "source": [
        "b1 = b.copy()\n",
        "np.sort(b1)\n",
        "print(b1) # Not sorted\n",
        "b1.sort()\n",
        "print(b1) # Sorted"
      ]
    },
    {
      "cell_type": "markdown",
      "metadata": {
        "id": "cORuonnAGG5z"
      },
      "source": [
        "### Advanced Indexing\n",
        "\n",
        "We can use boolean operators to perform a comparison on each element in an array. These boolean operations generate arrays of booleans."
      ]
    },
    {
      "cell_type": "code",
      "execution_count": 90,
      "metadata": {
        "colab": {
          "base_uri": "https://localhost:8080/"
        },
        "id": "BuvXtc8RGfEi",
        "outputId": "3ed70a59-af8d-4d9b-d4ce-02bc77f86b96"
      },
      "outputs": [
        {
          "name": "stdout",
          "output_type": "stream",
          "text": [
            "[[False False False False]\n",
            " [False  True  True  True]\n",
            " [ True  True  True  True]]\n",
            "[ 5  6  7  8  9 10 11]\n"
          ]
        }
      ],
      "source": [
        "a = np.arange(12).reshape(3,4)\n",
        "b = a > 4\n",
        "# b is an array of booleans with a's shape\n",
        "print(b)\n",
        "# Indexing into a with b gives all the values in a greater than 4\n",
        "print(a[b])"
      ]
    },
    {
      "cell_type": "markdown",
      "metadata": {
        "id": "-JGdmN9GG3Rh"
      },
      "source": [
        "This can be very useful in assignments. For example if we wanted set all values in `a` greater than 4 to 0, we could do"
      ]
    },
    {
      "cell_type": "code",
      "execution_count": 91,
      "metadata": {
        "colab": {
          "base_uri": "https://localhost:8080/"
        },
        "id": "rD4Ntpo2G8CU",
        "outputId": "f69a6ecb-6336-44ca-99e1-73765d63e148"
      },
      "outputs": [
        {
          "name": "stdout",
          "output_type": "stream",
          "text": [
            "[[ 0  0  0  0]\n",
            " [ 4  5  6  7]\n",
            " [ 8  9 10 11]]\n"
          ]
        }
      ],
      "source": [
        "a[a < 4] = 0\n",
        "print(a)"
      ]
    },
    {
      "cell_type": "markdown",
      "metadata": {
        "id": "hZKKNo-BJLdk"
      },
      "source": [
        "Indexing with an array can also be performed with actual indices instead of booleans. The best way to understand is with examples."
      ]
    },
    {
      "cell_type": "code",
      "execution_count": 92,
      "metadata": {
        "colab": {
          "base_uri": "https://localhost:8080/"
        },
        "id": "QK5RiPYmJf09",
        "outputId": "d2f5f4a8-fdb2-4935-fba2-c812396e2e5f"
      },
      "outputs": [
        {
          "name": "stdout",
          "output_type": "stream",
          "text": [
            "[  0   1   4   9  16  25  36  49  64  81 100 121]\n",
            "[ 1  1  9 64 25]\n"
          ]
        }
      ],
      "source": [
        "a = np.arange(12)**2 # the first 12 square numbers\n",
        "print(a)\n",
        "i = np.array([1, 1, 3, 8, 5]) # an array of indices\n",
        "print(a[i]) # the elements of a at the positions i"
      ]
    },
    {
      "cell_type": "code",
      "execution_count": 93,
      "metadata": {
        "colab": {
          "base_uri": "https://localhost:8080/"
        },
        "id": "kBQ22t2qJl2i",
        "outputId": "d2cf24dc-9929-467b-ef55-cafc7194c4de"
      },
      "outputs": [
        {
          "name": "stdout",
          "output_type": "stream",
          "text": [
            "[[ 9 16]\n",
            " [81 49]]\n"
          ]
        }
      ],
      "source": [
        "j = np.array([[3, 4],\n",
        "              [9, 7]]) # a 2D array of indices\n",
        "print(a[j])"
      ]
    },
    {
      "cell_type": "markdown",
      "metadata": {
        "id": "nfPDmjC5KDQY"
      },
      "source": [
        "Each number in the indexing array specifies the index of the number we want from `a`, then NumPy gives us back an array with the same shape as the indexing array with the values filled in."
      ]
    },
    {
      "cell_type": "markdown",
      "metadata": {
        "id": "Kadtxhv2KP3Q"
      },
      "source": [
        "If the indexed array `a` is multidimensional, each array of indices refers to the first dimension `a`."
      ]
    },
    {
      "cell_type": "code",
      "execution_count": 94,
      "metadata": {
        "colab": {
          "base_uri": "https://localhost:8080/"
        },
        "id": "67UdtWCdK49b",
        "outputId": "01834663-b142-4b59-e41e-ddc55245c11e"
      },
      "outputs": [
        {
          "name": "stdout",
          "output_type": "stream",
          "text": [
            "[[ 0  1  2  3]\n",
            " [ 4  5  6  7]\n",
            " [ 8  9 10 11]]\n",
            "[[0 1 2 3]\n",
            " [4 5 6 7]]\n",
            "[[[ 0  1  2  3]\n",
            "  [ 4  5  6  7]]\n",
            "\n",
            " [[ 4  5  6  7]\n",
            "  [ 8  9 10 11]]]\n"
          ]
        }
      ],
      "source": [
        "a = np.arange(12).reshape(3, 4)\n",
        "print(a)\n",
        "\n",
        "i = np.array([0, 1]) # We want the first and second rows of a\n",
        "print(a[i])\n",
        "\n",
        "i = np.array([[0, 1], # We want the first and second rows in one array\n",
        "              [1, 2]]) # As well as the second and third rows in another array\n",
        "print(a[i])"
      ]
    },
    {
      "cell_type": "markdown",
      "metadata": {
        "id": "o2_PmGWVMUnT"
      },
      "source": [
        "We can also index into both the rows and columns at the same time. In this case the two indexing arrays must have the same shape so NumPy can pick pairs of indexes."
      ]
    },
    {
      "cell_type": "code",
      "execution_count": 95,
      "metadata": {
        "colab": {
          "base_uri": "https://localhost:8080/"
        },
        "id": "cqbIN7SCMZdr",
        "outputId": "f6ce7da8-13d4-4ad5-f4c6-0bc8d1aad194"
      },
      "outputs": [
        {
          "name": "stdout",
          "output_type": "stream",
          "text": [
            "[[ 0  1  2  3]\n",
            " [ 4  5  6  7]\n",
            " [ 8  9 10 11]]\n",
            "[[ 2  5]\n",
            " [ 7 11]]\n"
          ]
        }
      ],
      "source": [
        "a = np.arange(12).reshape(3,4)\n",
        "print(a)\n",
        "\n",
        "i = np.array([[0, 1], # indices for the first dimension of a\n",
        "              [1, 2]])\n",
        "j = np.array([[2, 1], # indices for the second dimension\n",
        "              [3, 3]])\n",
        "\n",
        "# With the above indices, we are saying we want a 2x2 array with a[0,2] in the top left,\n",
        "# a[1,1] in the top right, a[1,3] in the bottom left, and a[2,3] in the bottom right\n",
        "print(a[i, j])\n",
        "\n",
        "# With this we are using the same rows but we're only grabbing from the third column\n",
        "# print(a[i, 2])"
      ]
    },
    {
      "cell_type": "code",
      "execution_count": 97,
      "metadata": {
        "colab": {
          "base_uri": "https://localhost:8080/"
        },
        "id": "l1igd1fCN_Tb",
        "outputId": "cef7dcfd-33a4-45f3-9e30-3c14cf9dacca"
      },
      "outputs": [
        {
          "name": "stdout",
          "output_type": "stream",
          "text": [
            "[4 3 2 1]\n"
          ]
        }
      ],
      "source": [
        "a = np.array([4, 3, 2, 1])\n",
        "print(a)"
      ]
    },
    {
      "cell_type": "markdown",
      "metadata": {
        "id": "sAG-6sjGN0oB"
      },
      "source": [
        "**Challenge**: Using `a` from directly above, manually rearrange the numbers in sorted order using an index array. \n",
        "The resulting array should look like\n",
        "\n",
        "\n",
        "```\n",
        "[1 2 3 4]\n",
        "```\n",
        "\n",
        "**Bonus challenge:** Reshape `a` to be of shape (2, 2), then rearrange in sorted order using an index array. The resulting array should look like\n",
        "\n",
        "\n",
        "```\n",
        "[[1 2]\n",
        " [3 4]]\n",
        "```\n"
      ]
    },
    {
      "cell_type": "code",
      "execution_count": 104,
      "metadata": {
        "colab": {
          "base_uri": "https://localhost:8080/"
        },
        "id": "AAdi5_MROYy8",
        "outputId": "0bf873a1-02fd-46fa-ea0b-1937baded61e"
      },
      "outputs": [
        {
          "name": "stdout",
          "output_type": "stream",
          "text": [
            "[[4 3]\n",
            " [2 1]]\n",
            "[[1 2]\n",
            " [3 4]]\n"
          ]
        }
      ],
      "source": [
        "i = np.array([3, 2, 1, 0])\n",
        "# print(a[i])\n",
        "# j = np.array([[3,2], [1,0]])\n",
        "# print(a[j])\n",
        "# Bonus\n",
        "a2 = a.reshape((2, 2))\n",
        "print(a2)\n",
        "i = np.array([[1, 1], [0, 0]])\n",
        "j = np.array([[1, 0], [1, 0]])\n",
        "print(a2[i,j])"
      ]
    },
    {
      "cell_type": "markdown",
      "metadata": {
        "id": "Dsb0jbIbNuR7"
      },
      "source": [
        "### Broadcasting Rules\n",
        "\n",
        "The broadcasting rules of NumPy define how NumPy treats arrays of different shapes during operations. These are important to understand because there will often be times when we have arrays of different shapes, and if you understand the rules of broadcasting you can save yourself a lot of time and likely make your program more performant.\n",
        "\n",
        "The idea with broadcasting is to transform the smaller array in the operation into a compatible shape. For example, if we had a 2D array and a 1D array normally we couldn't perform element-wise addition because the 1D array doesn't have matching positions."
      ]
    },
    {
      "cell_type": "markdown",
      "metadata": {
        "id": "sYHhFBkh1uYn"
      },
      "source": [
        "From the NumPy documentation:\n",
        "\n",
        "> The first rule of broadcsting is that if all input arrays do not have the same number of dimensions, a \"1\" will be repeatedly prepended to the shapes of the smaller arrays until all the arrays have the same number of dimensions.\n",
        "\n",
        "What this means is that NumPy will transform the smaller array in an operation so that it has the **same number of dimensions** as the larger array.\n",
        "\n",
        "For example, say we had a 2D array and a 1D array that we wanted to add together:"
      ]
    },
    {
      "cell_type": "code",
      "execution_count": 131,
      "metadata": {
        "colab": {
          "base_uri": "https://localhost:8080/"
        },
        "id": "qgNw3lrE2uOn",
        "outputId": "8383d9ff-1ec1-4342-848c-f7810d79d81d"
      },
      "outputs": [
        {
          "name": "stdout",
          "output_type": "stream",
          "text": [
            "[[1 2]\n",
            " [3 4]]\n",
            "[5 6]\n"
          ]
        }
      ],
      "source": [
        "a2 = np.array([[1,2],\n",
        "               [3,4]])\n",
        "a1 = np.array([5, 6])\n",
        "print(a2)\n",
        "print(a1)"
      ]
    },
    {
      "cell_type": "markdown",
      "metadata": {
        "id": "1zAtrOuO27mv"
      },
      "source": [
        "We can't perform element-wise addition on these yet because they don't have the same number of elements and the elements are not in matching positions.\n",
        "\n",
        "The first rule comes in here to help get the elements in matching positions: \n",
        "\n",
        "`a2` has a shape of (2, 2), and `a1` has a shape of (2,), so when we try to perform an operation on these the first rule of broadcasting transforms `a1` to have a shape of (1, 2)."
      ]
    },
    {
      "cell_type": "code",
      "execution_count": 132,
      "metadata": {
        "colab": {
          "base_uri": "https://localhost:8080/"
        },
        "id": "T1EXUoaB3eyO",
        "outputId": "9b0f596b-0e28-466a-98e6-d39d549ac61f"
      },
      "outputs": [],
      "source": [
        "# broadcast_a1 = a1[np.newaxis, :]\n",
        "# print(broadcast_a1)"
      ]
    },
    {
      "cell_type": "markdown",
      "metadata": {
        "id": "lHaXDKrb3zaz"
      },
      "source": [
        "Now we are closer to being able to perform the addition because we have the same number of dimensions. We still can't though because `a1` doesn't have the same number of elements, and this is where the second rule comes in:\n",
        "\n",
        "> The second rule of broadcasting ensures that arrays with a size of 1 along a particular dimension act as if they had the size of the array with the largest shape along that dimension. The value of the array element is assumed to be the same along that dimension for the “broadcast” array.\n",
        "\n",
        "What this means is that if a dimension has a size of 1 in an array, it will take the size of the corresponding dimension in the other array by copying itself repeatedly.\n",
        "\n",
        "In our example, `a1` has a shape of (1,2) while `a2` has a shape of (2,2), so it's first dimension will become 2 to match `a2`'s first dimension. What this looks like is:"
      ]
    },
    {
      "cell_type": "code",
      "execution_count": 133,
      "metadata": {
        "colab": {
          "base_uri": "https://localhost:8080/"
        },
        "id": "Z-VFjq8G49zM",
        "outputId": "d92d7ec9-cc8f-45db-b351-dcc56106ea55"
      },
      "outputs": [],
      "source": [
        "# We copy the value in a1's first dimension along a1's first dimension until it\n",
        "# has the same size as a2's first dimension\n",
        "# broadcast_a1 = [broadcast_a1[0] for _ in range(a2.shape[0])]\n",
        "# print(a2.shape[0]) = 2\n",
        "#\n",
        "# print(np.array(broadcast_a1))"
      ]
    },
    {
      "cell_type": "markdown",
      "metadata": {
        "id": "0Xrdkosz7rck"
      },
      "source": [
        "Now we are done broadcasting and the arrays are compatible! Each element in `a2` now has a corresponding element in `a1` which can be added to it. Putting it all together:"
      ]
    },
    {
      "cell_type": "code",
      "execution_count": 134,
      "metadata": {
        "colab": {
          "base_uri": "https://localhost:8080/"
        },
        "id": "fY2wYyYT8AeM",
        "outputId": "45025492-33b9-4013-b851-dfba15bbe292"
      },
      "outputs": [],
      "source": [
        "# print(a2)\n",
        "# print(a1)\n",
        "\n",
        "# broadcast_a1 = a1[np.newaxis, :]\n",
        "# broadcast_a1 = np.array([broadcast_a1[0] for _ in range(a2.shape[0])])\n",
        "\n",
        "# print(a2)\n",
        "# print(broadcast_a1)\n",
        "\n",
        "# print(a2 + broadcast_a1)"
      ]
    },
    {
      "cell_type": "markdown",
      "metadata": {
        "id": "5LZYrerk9PPP"
      },
      "source": [
        "But NumPy performs these operations automatically for us, so we can just do:"
      ]
    },
    {
      "cell_type": "code",
      "execution_count": 135,
      "metadata": {
        "colab": {
          "base_uri": "https://localhost:8080/"
        },
        "id": "wrq2dG4u9Wxz",
        "outputId": "484d33e8-ab4c-4b79-e637-756abcf2e1da"
      },
      "outputs": [
        {
          "name": "stdout",
          "output_type": "stream",
          "text": [
            "[[1 2]\n",
            " [3 4]]\n",
            "[5 6]\n",
            "[[ 6  8]\n",
            " [ 8 10]]\n"
          ]
        }
      ],
      "source": [
        "print(a2)\n",
        "print(a1)\n",
        "print(a2 + a1)"
      ]
    },
    {
      "cell_type": "markdown",
      "metadata": {
        "id": "VQ9ih1iZ-7En"
      },
      "source": [
        "NumPy will apply the first rule on the smaller of two arrays, and it will apply the second rule only if all dimensions are compatible after the first rule is applied. You may have figured this out by now, but two dimensions are compatible when\n",
        "\n",
        "1. they are equal, or\n",
        "2. one of them is 1.\n",
        "\n",
        "This is important to understand because it tells you which shapes of arrays can and cannot be broadcast together.\n",
        "\n",
        "For example consider two 1D arrays, one with length 3 and the other with length 4. They have the same number of dimensions so the first rule doesn't do anything. But the first dimensions of these are not compatible because they are not equal and neither of them is 1.\n",
        "\n",
        "As another example, consider a 2D array with shape (2,1) and a 3D array of shape (8,4,3). The first rule transforms the 2D array to have shape (1,2,1). Now dimensions 1 and 3 of these two arrays are compatible because the first array has size 1 along those dimensions. However, dimension 2 is incompatible because 4 and 2 are not equal and neither 4 nor 2 is 1."
      ]
    },
    {
      "cell_type": "markdown",
      "metadata": {
        "id": "GCwqnEEnBxma"
      },
      "source": [
        "Let's go through a few more examples:"
      ]
    },
    {
      "cell_type": "code",
      "execution_count": 136,
      "metadata": {
        "colab": {
          "base_uri": "https://localhost:8080/"
        },
        "id": "a6oet6I7BOT3",
        "outputId": "74f26cbf-4ec0-4248-c9b2-37bfb33dd890"
      },
      "outputs": [
        {
          "name": "stdout",
          "output_type": "stream",
          "text": [
            "[0 1 2 3]\n",
            "[[0]\n",
            " [1]\n",
            " [2]\n",
            " [3]]\n",
            "[1. 1. 1. 1. 1.]\n",
            "[[1. 1. 1. 1.]\n",
            " [1. 1. 1. 1.]\n",
            " [1. 1. 1. 1.]]\n"
          ]
        }
      ],
      "source": [
        "x = np.arange(4)\n",
        "xx = x.reshape(4,1)\n",
        "y = np.ones(5)\n",
        "z = np.ones((3,4))\n",
        "print(x)\n",
        "print(xx)\n",
        "print(y)\n",
        "print(z)"
      ]
    },
    {
      "cell_type": "code",
      "execution_count": 137,
      "metadata": {
        "colab": {
          "base_uri": "https://localhost:8080/"
        },
        "id": "o-kJMrLKB1aB",
        "outputId": "0007d6ec-9b65-4e8d-dde0-f32d0bbf3fe3"
      },
      "outputs": [
        {
          "name": "stdout",
          "output_type": "stream",
          "text": [
            "(4,)\n",
            "(5,)\n",
            "operands could not be broadcast together with shapes (4,) (5,) \n"
          ]
        }
      ],
      "source": [
        "print(x.shape)\n",
        "print(y.shape)\n",
        "try:\n",
        "    print(x + y)\n",
        "except ValueError as e:\n",
        "    print(e)"
      ]
    },
    {
      "cell_type": "code",
      "execution_count": 138,
      "metadata": {
        "colab": {
          "base_uri": "https://localhost:8080/"
        },
        "id": "f3FsPCVPCDDM",
        "outputId": "53e4c101-a2f0-488e-cf90-fe15052c477b"
      },
      "outputs": [
        {
          "name": "stdout",
          "output_type": "stream",
          "text": [
            "(4, 1)\n",
            "(5,)\n",
            "(4, 5)\n",
            "[[1. 1. 1. 1. 1.]\n",
            " [2. 2. 2. 2. 2.]\n",
            " [3. 3. 3. 3. 3.]\n",
            " [4. 4. 4. 4. 4.]]\n"
          ]
        }
      ],
      "source": [
        "print(xx.shape)\n",
        "print(y.shape)\n",
        "print((xx + y).shape)\n",
        "print(xx + y)"
      ]
    },
    {
      "cell_type": "code",
      "execution_count": 279,
      "metadata": {
        "colab": {
          "base_uri": "https://localhost:8080/"
        },
        "id": "gp4tohCtCEg6",
        "outputId": "77bc7f15-d00c-494d-aad3-fb5ab645daa8"
      },
      "outputs": [],
      "source": [
        "print(x.shape)\n",
        "print(z.shape)\n",
        "print((x + z).shape)\n",
        "print(x + z)"
      ]
    },
    {
      "cell_type": "markdown",
      "metadata": {
        "id": "sek3JNovCZyP"
      },
      "source": [
        "**Challenge:** Create an array of shape (4, 3), then create an array that **can't** be broadcast with it and create one that **can**.\n",
        "\n",
        "**Bonus challenge:** Before you print out the result of the compatible arrays, write out what you think the shape of the resulting array will be."
      ]
    },
    {
      "cell_type": "code",
      "execution_count": null,
      "metadata": {
        "colab": {
          "base_uri": "https://localhost:8080/"
        },
        "id": "bIFj9oS0C_Da",
        "outputId": "b29a3846-7e5c-4107-d429-53dfca9c0b6c"
      },
      "outputs": [],
      "source": [
        "a4x3 = np.ones((4, 3))\n",
        "a4x7x3 = np.ones((4, 7, 3))\n",
        "a7x4x1x3 = np.ones((7, 4, 1, 3))\n",
        "\n",
        "try:\n",
        "    a4x3 + a4x7x3\n",
        "except ValueError as e:\n",
        "    print(e)\n",
        "\n",
        "# 1 x 1 x 4 x 3 *\n",
        "# 7 x 4 x 1 x 3 =>\n",
        "# 7 x 4 x 4 x 3\n",
        "r = a4x3 * a7x4x1x3\n",
        "print(r.shape)\n",
        "print(r)"
      ]
    },
    {
      "cell_type": "markdown",
      "metadata": {
        "id": "c1zjKhrZE6s6"
      },
      "source": [
        "## References\n",
        "\n",
        "- [NumPy Quickstart](https://numpy.org/doc/stable/user/quickstart.html)\n",
        "- [NumPy Broadcasting](https://numpy.org/doc/stable/user/basics.broadcasting.html)"
      ]
    }
  ],
  "metadata": {
    "colab": {
      "collapsed_sections": [],
      "name": "Calculations-with-NumPy-Arrays.ipynb",
      "provenance": []
    },
    "kernelspec": {
      "display_name": "Python 3",
      "name": "python3"
    },
    "language_info": {
      "codemirror_mode": {
        "name": "ipython",
        "version": 3
      },
      "file_extension": ".py",
      "mimetype": "text/x-python",
      "name": "python",
      "nbconvert_exporter": "python",
      "pygments_lexer": "ipython3",
      "version": "3.13.1"
    }
  },
  "nbformat": 4,
  "nbformat_minor": 0
}
