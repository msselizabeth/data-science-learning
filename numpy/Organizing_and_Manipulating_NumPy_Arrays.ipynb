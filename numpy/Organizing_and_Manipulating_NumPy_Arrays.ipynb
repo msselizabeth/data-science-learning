{
  "cells": [
    {
      "cell_type": "markdown",
      "metadata": {
        "id": "WGBHjNFvtb63"
      },
      "source": [
        "# Organizing and Manipulating NumPy Arrays\n",
        "\n",
        "In this workshop we will learn how to organize and manipulate our arrays, covering the topics of:\n",
        "\n",
        "- Reshaping arrays and ravelling arrays\n",
        "- Combining and splitting arrays\n",
        "- Copies and views of arrays"
      ]
    },
    {
      "cell_type": "markdown",
      "metadata": {
        "id": "KTa3PBEz3XoT"
      },
      "source": [
        "## Shape Manipulation\n",
        "\n",
        "Sometimes our arrays will have the data that we need but their shape is not convenient for the operation we want to perform. NumPy provides a few important functions to help with this.\n",
        "\n",
        "We can use the `reshape` function to modify the shape of an array."
      ]
    },
    {
      "cell_type": "code",
      "execution_count": 2,
      "metadata": {},
      "outputs": [
        {
          "name": "stdout",
          "output_type": "stream",
          "text": [
            "[0 1 2 3 4 5]\n"
          ]
        }
      ],
      "source": [
        "import numpy as np\n",
        "\n",
        "a = np.arange(0, 6)\n",
        "# a is one dimensional\n",
        "print(a)\n",
        "# a with 2 rows and 3 columns\n",
        "# print(a.reshape((2, 3)))\n",
        "# a with 3 rows and 2 columns\n",
        "# print(a.reshape((3, 2)))\n",
        "# a with 6 rows and 1 column\n",
        "# print(a.reshape((6, 1)))\n",
        "# a with 1 row and 6 columns\n",
        "# print(a.reshape((1, 6)))\n",
        "# a with three dimensions\n",
        "# print(a.reshape((1, 1, 6)))"
      ]
    },
    {
      "cell_type": "markdown",
      "metadata": {
        "id": "-sSgkMoD47mI"
      },
      "source": [
        "**Challenge:** Create an array of numbers from 0 up to 50 with 10 rows and 5 columns."
      ]
    },
    {
      "cell_type": "code",
      "execution_count": null,
      "metadata": {
        "colab": {
          "base_uri": "https://localhost:8080/"
        },
        "id": "wdj0pFqi5JTF",
        "outputId": "5360d31a-76e6-427b-f746-e75d4519d22a"
      },
      "outputs": [],
      "source": [
        "# print(np.arange(0, 50).reshape((10, 5)))"
      ]
    },
    {
      "cell_type": "markdown",
      "metadata": {
        "id": "vl05oO5N5cy6"
      },
      "source": [
        "We can use the `ravel` method on an array to flatten it.\n"
      ]
    },
    {
      "cell_type": "code",
      "execution_count": 55,
      "metadata": {
        "colab": {
          "base_uri": "https://localhost:8080/"
        },
        "id": "gG1JIg17579e",
        "outputId": "aea4242c-87d1-4495-edef-209ef9e1e66c"
      },
      "outputs": [
        {
          "name": "stdout",
          "output_type": "stream",
          "text": [
            "[ 0  1  2  3  4  5  6  7  8  9 10 11]\n"
          ]
        }
      ],
      "source": [
        "a = np.arange(0, 12)\n",
        "print(a)\n",
        "# print(a.ravel())\n",
        "# To get back the original shape after ravel we can use reshape\n",
        "# print(a.ravel().reshape(a.shape))"
      ]
    },
    {
      "cell_type": "markdown",
      "metadata": {
        "id": "qPHjmzQD57hu"
      },
      "source": [
        "\n",
        "Note that this is not the same as `flat` because `flat` is just an iterator while `ravel` actually creates an array. Iterators only return the elements in a given order which is good for looping and saves memory.\n",
        "\n",
        "In short, use `flat` when you want to loop through the elements of an array, and use `ravel` when you need a flattened version of the array."
      ]
    },
    {
      "cell_type": "code",
      "execution_count": 52,
      "metadata": {
        "colab": {
          "base_uri": "https://localhost:8080/"
        },
        "id": "19MUNzjv6jMr",
        "outputId": "c3a5630f-1dbd-4fb3-bfd9-251d0b7de81d"
      },
      "outputs": [],
      "source": [
        "# print(a.ravel())\n",
        "# print(a.flat)"
      ]
    },
    {
      "cell_type": "markdown",
      "metadata": {
        "id": "BzpExum06yqk"
      },
      "source": [
        "`reshape` and `ravel` return new arrays and **do not modify the original array**. If you want to modify the original you can use `resize` instead."
      ]
    },
    {
      "cell_type": "code",
      "execution_count": 56,
      "metadata": {
        "colab": {
          "base_uri": "https://localhost:8080/"
        },
        "id": "ZLDYzPzE7RY2",
        "outputId": "113a4325-3d25-4c4f-8184-22792782b847"
      },
      "outputs": [
        {
          "name": "stdout",
          "output_type": "stream",
          "text": [
            "[ 0  1  2  3  4  5  6  7  8  9 10 11]\n"
          ]
        }
      ],
      "source": [
        "a.reshape((4, 3))\n",
        "# Remains the same\n",
        "print(a)\n",
        "\n",
        "# a.ravel()\n",
        "# Remains the same\n",
        "# print(a)\n",
        "\n",
        "# a.resize((3, 4))\n",
        "# Modified\n",
        "# print(a)"
      ]
    },
    {
      "cell_type": "markdown",
      "metadata": {
        "id": "D8TJaOPQ-AxT"
      },
      "source": [
        "If you only care about one of the dimensions when reshaping an array, you can specify `-1` for the other dimension and they will be automatically calculated."
      ]
    },
    {
      "cell_type": "code",
      "execution_count": 62,
      "metadata": {
        "colab": {
          "base_uri": "https://localhost:8080/"
        },
        "id": "N9_lo713-Mhm",
        "outputId": "5f892975-e258-4d78-b053-154260219ed7"
      },
      "outputs": [
        {
          "name": "stdout",
          "output_type": "stream",
          "text": [
            "[[ 0  1  2  3]\n",
            " [ 4  5  6  7]\n",
            " [ 8  9 10 11]]\n",
            "[[[ 0  1]\n",
            "  [ 2  3]\n",
            "  [ 4  5]]\n",
            "\n",
            " [[ 6  7]\n",
            "  [ 8  9]\n",
            "  [10 11]]]\n"
          ]
        }
      ],
      "source": [
        "# We want 2 rows and it doesn't matter how many columns\n",
        "# print(a.reshape(2, -1))\n",
        " \n",
        "a2 = np.arange(0, 12)\n",
        "\n",
        "# We want 12 columns and it doesn't matter how many rows\n",
        "print(a2.reshape(-1, 4))\n",
        "# We want a list of arrays of shape (4, 3), we don't care how many arrays\n",
        "print(a2.reshape(-1, 3, 2))"
      ]
    },
    {
      "cell_type": "markdown",
      "metadata": {
        "id": "mB8OjjrvlJfO"
      },
      "source": [
        "You can also *transpose* an array, which means making the columns into the rows and the rows into the columns. When you transpose an array of size `(m, n)`, you will get an array of size `(n, m)`."
      ]
    },
    {
      "cell_type": "code",
      "execution_count": 65,
      "metadata": {
        "colab": {
          "base_uri": "https://localhost:8080/"
        },
        "id": "iSk0RwfhlogL",
        "outputId": "748e6df0-6c4a-4f25-e0fc-1b0eb6fc0a95"
      },
      "outputs": [
        {
          "name": "stdout",
          "output_type": "stream",
          "text": [
            "[[0 1 2]\n",
            " [3 4 5]]\n",
            "[[0 3]\n",
            " [1 4]\n",
            " [2 5]]\n"
          ]
        }
      ],
      "source": [
        "a2 = np.arange(0, 6).reshape(2, 3)\n",
        "print(a2)\n",
        "\n",
        "a2t = a2.T\n",
        "# Notice how each row becomes a column at the position of that row,\n",
        "# and in the process each column becomes a row (or you can look at it the other way around)\n",
        "print(a2t)\n",
        "\n",
        "# print(a2.shape)\n",
        "# print(a2t.shape)"
      ]
    },
    {
      "cell_type": "markdown",
      "metadata": {
        "id": "hTIHLvV6_ZR8"
      },
      "source": [
        "**Challenge:** Create an array of ones of shape (5, 6, 7), update it so its flattened, then return it to its original shape.\n",
        "\n",
        "**Bonus challenge:** Explain the shape of the array."
      ]
    },
    {
      "cell_type": "code",
      "execution_count": null,
      "metadata": {
        "colab": {
          "base_uri": "https://localhost:8080/"
        },
        "id": "Ql4A8hxy_02T",
        "outputId": "fb8d02b1-8c89-4d36-d754-b6254345e8fa"
      },
      "outputs": [],
      "source": [
        "ones = np.ones((5,6,7))\n",
        "ones = ones.ravel()\n",
        "print(ones)\n",
        "ones = ones.reshape((5,6,7))\n",
        "print(ones)"
      ]
    },
    {
      "cell_type": "markdown",
      "metadata": {
        "id": "Pln05WgOn74-"
      },
      "source": [
        "## Stacking and Splitting Arrays\n",
        "\n",
        "It is sometimes useful to join arrays together or split them apart, for example if we have data split across two different tables."
      ]
    },
    {
      "cell_type": "markdown",
      "metadata": {
        "id": "Ssi_0fprqFO-"
      },
      "source": [
        "`hstack` and `vstack` allow us to 'stack' arrays along different axes."
      ]
    },
    {
      "cell_type": "code",
      "execution_count": 96,
      "metadata": {
        "colab": {
          "base_uri": "https://localhost:8080/"
        },
        "id": "BHs2o9YVqNIl",
        "outputId": "93668b4e-52ee-4f18-800c-38e6ecfd08bc"
      },
      "outputs": [
        {
          "name": "stdout",
          "output_type": "stream",
          "text": [
            "[[ 0  1  2  3]\n",
            " [ 4  5  6  7]\n",
            " [ 8  9 10 11]]\n",
            "[[12 13 14 15]\n",
            " [16 17 18 19]\n",
            " [20 21 22 23]]\n"
          ]
        }
      ],
      "source": [
        "a = np.arange(0, 12).reshape((3, 4))\n",
        "b = np.arange(12, 24).reshape((3, 4))\n",
        "print(a)\n",
        "print(b)"
      ]
    },
    {
      "cell_type": "markdown",
      "metadata": {
        "id": "9lVdSUBdqnCC"
      },
      "source": [
        "To stack these along the first axes, or along the rows, we can use `vstack`. Stacking along the rows means each row in each array becomes a row in the resulting array. The order of the rows are determined by the order the arrays are passed in."
      ]
    },
    {
      "cell_type": "code",
      "execution_count": 85,
      "metadata": {
        "colab": {
          "base_uri": "https://localhost:8080/"
        },
        "id": "QnMYt17wqxq6",
        "outputId": "e7a38f73-f129-4a8a-e848-83470c9de4dd"
      },
      "outputs": [
        {
          "data": {
            "text/plain": [
              "array([[ 0,  1,  2],\n",
              "       [ 3,  4,  5],\n",
              "       [ 6,  7,  8],\n",
              "       [ 9, 10, 11]])"
            ]
          },
          "execution_count": 85,
          "metadata": {},
          "output_type": "execute_result"
        }
      ],
      "source": [
        "np.vstack((a, b))"
      ]
    },
    {
      "cell_type": "markdown",
      "metadata": {
        "id": "C0x93u-1rUWs"
      },
      "source": [
        "To stack these along the second axes, or along the columns, we can use `hstack`. Stacking along the columns means each column in each array becomes a column in the resulting array. The order of the columns are determined by the order the arrays are passed in."
      ]
    },
    {
      "cell_type": "code",
      "execution_count": 86,
      "metadata": {
        "colab": {
          "base_uri": "https://localhost:8080/"
        },
        "id": "eH6ClMc2rjcS",
        "outputId": "635f592f-9e6d-4c2d-fb1a-67a20446cc37"
      },
      "outputs": [
        {
          "data": {
            "text/plain": [
              "array([[ 0,  1,  2,  6,  7,  8],\n",
              "       [ 3,  4,  5,  9, 10, 11]])"
            ]
          },
          "execution_count": 86,
          "metadata": {},
          "output_type": "execute_result"
        }
      ],
      "source": [
        "np.hstack((a, b))"
      ]
    },
    {
      "cell_type": "markdown",
      "metadata": {
        "id": "1yC_lfChs7v1"
      },
      "source": [
        "These also work as you would expect for simpler 1D arrays."
      ]
    },
    {
      "cell_type": "code",
      "execution_count": 80,
      "metadata": {
        "colab": {
          "base_uri": "https://localhost:8080/"
        },
        "id": "QpjI0zjitA5O",
        "outputId": "31ff1fbd-25e7-4118-b767-6410d9e68878"
      },
      "outputs": [
        {
          "name": "stdout",
          "output_type": "stream",
          "text": [
            "[[1 2 3]\n",
            " [4 5 6]]\n",
            "[1 2 3 4 5 6]\n"
          ]
        }
      ],
      "source": [
        "a1 = np.array([1, 2, 3])\n",
        "b1 = np.array([4, 5, 6])\n",
        "print(np.vstack((a1, b1)))\n",
        "# In this case, this one is basically the same as Python's extend\n",
        "print(np.hstack((a1, b1)))"
      ]
    },
    {
      "cell_type": "markdown",
      "metadata": {
        "id": "aBtEnzwBthOX"
      },
      "source": [
        "Another function called `column_stack` takes 1D arrays and stacks them as columns into a 2D array. This can be useful for building a table from columns stored as 1D arrays."
      ]
    },
    {
      "cell_type": "code",
      "execution_count": null,
      "metadata": {
        "colab": {
          "base_uri": "https://localhost:8080/"
        },
        "id": "B94xAOoQtw0J",
        "outputId": "ba6b74d6-af4a-40ea-b939-f359f3411b85"
      },
      "outputs": [
        {
          "name": "stdout",
          "output_type": "stream",
          "text": [
            "[[1 4]\n",
            " [2 5]\n",
            " [3 6]]\n"
          ]
        }
      ],
      "source": [
        "# print(np.column_stack((a1, b1)))"
      ]
    },
    {
      "cell_type": "markdown",
      "metadata": {
        "id": "e08yV7p7unAl"
      },
      "source": [
        "Another useful trick to add axes to an array is to use `np.newaxis`."
      ]
    },
    {
      "cell_type": "code",
      "execution_count": 90,
      "metadata": {
        "colab": {
          "base_uri": "https://localhost:8080/"
        },
        "id": "yLHN5AZvu4V5",
        "outputId": "9cd05232-9c1e-4c74-c3c4-4701c346073d"
      },
      "outputs": [
        {
          "name": "stdout",
          "output_type": "stream",
          "text": [
            "[[1]\n",
            " [2]\n",
            " [3]]\n",
            "[1 2 3]\n"
          ]
        }
      ],
      "source": [
        "print(a1[:, np.newaxis])\n",
        "print(a1)\n",
        "# print(b1[:, np.newaxis])"
      ]
    },
    {
      "cell_type": "markdown",
      "metadata": {
        "id": "B1V6Wwk7vT8e"
      },
      "source": [
        "For 1D arrays, `column_stack` effectively just adds a new axis like this, then `hstack`s the results together."
      ]
    },
    {
      "cell_type": "code",
      "execution_count": 91,
      "metadata": {
        "colab": {
          "base_uri": "https://localhost:8080/"
        },
        "id": "5rlMzs1cvbzx",
        "outputId": "1d01ff89-1f5a-4028-ae4d-738d57a53426"
      },
      "outputs": [
        {
          "name": "stdout",
          "output_type": "stream",
          "text": [
            "[[1 4]\n",
            " [2 5]\n",
            " [3 6]]\n",
            "[[1 4]\n",
            " [2 5]\n",
            " [3 6]]\n"
          ]
        }
      ],
      "source": [
        "print(np.column_stack((a1, b1)))\n",
        "print(np.hstack((a1[:,np.newaxis], b1[:,np.newaxis])))"
      ]
    },
    {
      "cell_type": "markdown",
      "metadata": {
        "id": "2e1gXl-wwA1V"
      },
      "source": [
        "`concatenate` allows for stacking along any axis via its `axis` parameter. This can be useful if you have more than two axes in your arrays."
      ]
    },
    {
      "cell_type": "code",
      "execution_count": 97,
      "metadata": {
        "colab": {
          "base_uri": "https://localhost:8080/"
        },
        "id": "_OK-FckvwVBY",
        "outputId": "c006c51e-b18e-4f65-b30f-cb90bb2bdb59"
      },
      "outputs": [
        {
          "name": "stdout",
          "output_type": "stream",
          "text": [
            "[[[ 0  1]\n",
            "  [ 2  3]\n",
            "  [ 4  5]]\n",
            "\n",
            " [[ 6  7]\n",
            "  [ 8  9]\n",
            "  [10 11]]]\n",
            "[[[12 13]\n",
            "  [14 15]\n",
            "  [16 17]]\n",
            "\n",
            " [[18 19]\n",
            "  [20 21]\n",
            "  [22 23]]]\n"
          ]
        }
      ],
      "source": [
        "a3 = a.reshape((-1, 3, 2))\n",
        "b3 = b.reshape((-1, 3, 2))\n",
        "\n",
        "print(a3)\n",
        "print(b3)"
      ]
    },
    {
      "cell_type": "markdown",
      "metadata": {
        "id": "iMWDx5FkxbOj"
      },
      "source": [
        "We can concatenate along the rows **containing** the inner arrays."
      ]
    },
    {
      "cell_type": "code",
      "execution_count": 98,
      "metadata": {
        "colab": {
          "base_uri": "https://localhost:8080/"
        },
        "id": "YjaJTxKBxEl8",
        "outputId": "a96f46e5-bff7-48b8-c01f-43e8b7c71bb6"
      },
      "outputs": [
        {
          "name": "stdout",
          "output_type": "stream",
          "text": [
            "[[[ 0  1]\n",
            "  [ 2  3]\n",
            "  [ 4  5]]\n",
            "\n",
            " [[ 6  7]\n",
            "  [ 8  9]\n",
            "  [10 11]]\n",
            "\n",
            " [[12 13]\n",
            "  [14 15]\n",
            "  [16 17]]\n",
            "\n",
            " [[18 19]\n",
            "  [20 21]\n",
            "  [22 23]]]\n"
          ]
        }
      ],
      "source": [
        "print(np.concatenate((a3, b3), axis=0))"
      ]
    },
    {
      "cell_type": "markdown",
      "metadata": {
        "id": "EF9oi3xuxhCV"
      },
      "source": [
        "We can concatenate along the rows **within** the inner arrays."
      ]
    },
    {
      "cell_type": "code",
      "execution_count": 99,
      "metadata": {
        "colab": {
          "base_uri": "https://localhost:8080/"
        },
        "id": "zaxNFqv6xF3u",
        "outputId": "bac85e59-d748-4862-a437-160074b5ab61"
      },
      "outputs": [
        {
          "name": "stdout",
          "output_type": "stream",
          "text": [
            "[[[ 0  1]\n",
            "  [ 2  3]\n",
            "  [ 4  5]\n",
            "  [12 13]\n",
            "  [14 15]\n",
            "  [16 17]]\n",
            "\n",
            " [[ 6  7]\n",
            "  [ 8  9]\n",
            "  [10 11]\n",
            "  [18 19]\n",
            "  [20 21]\n",
            "  [22 23]]]\n"
          ]
        }
      ],
      "source": [
        "print(np.concatenate((a3, b3), axis=1))"
      ]
    },
    {
      "cell_type": "markdown",
      "metadata": {
        "id": "22-Jegt3xmXJ"
      },
      "source": [
        "We can concatenate along the columns **within** the inner arrays."
      ]
    },
    {
      "cell_type": "code",
      "execution_count": 100,
      "metadata": {
        "colab": {
          "base_uri": "https://localhost:8080/"
        },
        "id": "3B221mpGxP33",
        "outputId": "3c5e6dd7-1c5c-43bf-c50f-061cc8f7cc28"
      },
      "outputs": [
        {
          "name": "stdout",
          "output_type": "stream",
          "text": [
            "[[[ 0  1 12 13]\n",
            "  [ 2  3 14 15]\n",
            "  [ 4  5 16 17]]\n",
            "\n",
            " [[ 6  7 18 19]\n",
            "  [ 8  9 20 21]\n",
            "  [10 11 22 23]]]\n"
          ]
        }
      ],
      "source": [
        "print(np.concatenate((a3, b3), axis=2))"
      ]
    },
    {
      "cell_type": "markdown",
      "metadata": {
        "id": "n0LhSlA7ybPK"
      },
      "source": [
        "The `r_` and `c_` objects allow for greater flexibility in building up arrays and allow us to build arrays using ranges. `r_` stacks along the rows and `c_` stacks along the columns."
      ]
    },
    {
      "cell_type": "code",
      "execution_count": 106,
      "metadata": {
        "colab": {
          "base_uri": "https://localhost:8080/"
        },
        "id": "tu80zutOymxE",
        "outputId": "3281d683-cf12-4a03-8d7a-5f016cfb8314"
      },
      "outputs": [
        {
          "name": "stdout",
          "output_type": "stream",
          "text": [
            "[[ 0  1  2  3]\n",
            " [ 4  5  6  7]\n",
            " [ 8  9 10 11]\n",
            " [12 13 14 15]\n",
            " [16 17 18 19]\n",
            " [20 21 22 23]\n",
            " [24 28 32 36]\n",
            " [25 29 33 37]\n",
            " [26 30 34 38]]\n"
          ]
        }
      ],
      "source": [
        "# print(np.r_[1:4, 0, 4])\n",
        "# print(np.c_[1:4, 4:7])\n",
        "c = np.c_[24:27, 28:31, 32:35, 36:39]\n",
        "# print(c)\n",
        "print(np.r_[a, b, c])\n",
        "# print(np.c_[a, b, c])"
      ]
    },
    {
      "cell_type": "markdown",
      "metadata": {
        "id": "a8txqf8m27Wz"
      },
      "source": [
        "We can use `hsplit` and `vsplit` to split an array either into `n` equally sized arrays, or to split it at a specified point."
      ]
    },
    {
      "cell_type": "code",
      "execution_count": 130,
      "metadata": {
        "colab": {
          "base_uri": "https://localhost:8080/"
        },
        "id": "F8dOjmo83Mtr",
        "outputId": "90574432-5162-42f3-92e1-25c7f0588bcc"
      },
      "outputs": [
        {
          "name": "stdout",
          "output_type": "stream",
          "text": [
            "[[1 2]\n",
            " [3 4]]\n",
            "[[ 1  2  5  6  9 10]\n",
            " [ 3  4  7  8 11 12]]\n"
          ]
        }
      ],
      "source": [
        "arr1 = np.arange(1, 5).reshape((2,2))\n",
        "arr2 = np.arange(5, 9).reshape((2,2))\n",
        "arr3 = np.arange(9, 13).reshape((2,2))\n",
        "\n",
        "print(arr1)\n",
        "# print(arr2)\n",
        "# print(arr3)\n",
        "\n",
        "a2 = np.c_[arr1, arr2, arr3]\n",
        "print(a2)"
      ]
    },
    {
      "cell_type": "code",
      "execution_count": 146,
      "metadata": {
        "colab": {
          "base_uri": "https://localhost:8080/"
        },
        "id": "ZedfaSfO33Cu",
        "outputId": "29c6dcc6-a2ae-4843-b178-34f8eca174a2"
      },
      "outputs": [
        {
          "name": "stdout",
          "output_type": "stream",
          "text": [
            "[array([[1, 2],\n",
            "       [3, 4]]), array([[5, 6],\n",
            "       [7, 8]]), array([[ 9, 10],\n",
            "       [11, 12]])]\n"
          ]
        }
      ],
      "source": [
        "# Split it horizonatally into 3 parts\n",
        "\n",
        "splits = np.hsplit(a2, 3)\n",
        "print(splits)\n",
        "# for split in splits:\n",
        "    # print(split)"
      ]
    },
    {
      "cell_type": "code",
      "execution_count": 148,
      "metadata": {
        "colab": {
          "base_uri": "https://localhost:8080/"
        },
        "id": "lHwF4tQR3vhF",
        "outputId": "66478b5d-db3a-433a-86a6-06ec7a6fe087"
      },
      "outputs": [
        {
          "name": "stdout",
          "output_type": "stream",
          "text": [
            "[array([[ 1,  2,  5,  6,  9, 10]]), array([[ 3,  4,  7,  8, 11, 12]])]\n"
          ]
        }
      ],
      "source": [
        "# Split it vertically into 3 parts\n",
        "splits = np.vsplit(a2, 2)\n",
        "print(splits)\n",
        "\n",
        "# for split in splits:\n",
        "#     print(split)"
      ]
    },
    {
      "cell_type": "code",
      "execution_count": 144,
      "metadata": {
        "colab": {
          "base_uri": "https://localhost:8080/"
        },
        "id": "b4pCtCXr4IIB",
        "outputId": "04de0667-3ee7-49aa-83fe-45c81fa29faf"
      },
      "outputs": [
        {
          "name": "stdout",
          "output_type": "stream",
          "text": [
            "[[1 2 5]\n",
            " [3 4 7]]\n",
            "[[ 6  9 10]\n",
            " [ 8 11 12]]\n",
            "[]\n"
          ]
        }
      ],
      "source": [
        "# Split after the third and tenth columns\n",
        "splits = np.hsplit(a2, (3, 6))\n",
        "for split in splits:\n",
        "    print(split)"
      ]
    },
    {
      "cell_type": "code",
      "execution_count": 145,
      "metadata": {
        "colab": {
          "base_uri": "https://localhost:8080/"
        },
        "id": "4MD43LpT4dym",
        "outputId": "16f504fc-f4f7-4880-f87d-a873bd28aa6c"
      },
      "outputs": [
        {
          "name": "stdout",
          "output_type": "stream",
          "text": [
            "[[ 1  3]\n",
            " [ 2  4]\n",
            " [ 5  7]\n",
            " [ 6  8]\n",
            " [ 9 11]\n",
            " [10 12]]\n",
            "[[ 1  3]\n",
            " [ 2  4]\n",
            " [ 5  7]\n",
            " [ 6  8]\n",
            " [ 9 11]]\n",
            "[[10 12]]\n",
            "[]\n"
          ]
        }
      ],
      "source": [
        "print(a2.T)\n",
        "# Split after the fifth and seventh rows\n",
        "splits = np.vsplit(a2.T, (5, 7))\n",
        "for split in splits:\n",
        "    print(split)"
      ]
    },
    {
      "cell_type": "markdown",
      "metadata": {
        "id": "m_nOD7Du4xNR"
      },
      "source": [
        "To split along any axis you can use `array_split`."
      ]
    },
    {
      "cell_type": "markdown",
      "metadata": {
        "id": "iWwuQu5c5LKX"
      },
      "source": [
        "**Challenge:** This is a multi-step challenge\n",
        "\n",
        "1. Create an array with values ranging from 1 to 30 in two different ways\n",
        "2. Reshape the arrays to have a shape of (3, 10)\n",
        "3. Split the array into 3 different parts in any way you choose\n",
        "4. Join the array parts back together to get back the array with shape (3, 10)"
      ]
    },
    {
      "cell_type": "code",
      "execution_count": null,
      "metadata": {
        "colab": {
          "base_uri": "https://localhost:8080/"
        },
        "id": "C1dOk2055W98",
        "outputId": "bd9a62a1-0815-40c2-c6d9-fc50d33318b4"
      },
      "outputs": [
        {
          "name": "stdout",
          "output_type": "stream",
          "text": [
            "[array([[ 1,  2,  3,  4,  5,  6,  7,  8,  9, 10]]), array([[11, 12, 13, 14, 15, 16, 17, 18, 19, 20]]), array([[21, 22, 23, 24, 25, 26, 27, 28, 29, 30]])]\n"
          ]
        }
      ],
      "source": [
        "# 1. Create an array in two ways\n",
        "arr = np.arange(1, 31)\n",
        "arr_2 = np.r_[1:31]\n",
        "# print(arr)\n",
        "# print(arr_2)\n",
        "\n",
        "# 2. Reshape the arrays \n",
        "arr = arr.reshape((3,10))\n",
        "# print(arr)\n",
        "\n",
        "# 3. split the arrays\n",
        "# arr = np.hsplit(arr, 5)\n",
        "# print(arr)\n",
        "print(np.vsplit(arr, 3))\n",
        "\n",
        "# mya = np.arange(1, 31)\n",
        "# print(mya)\n",
        "# mya = np.r_[1:31]\n",
        "# print(mya)\n",
        "\n",
        "# mya = mya.reshape((3, 10))\n",
        "# print(mya)\n",
        "\n",
        "# mya = np.hsplit(mya, (3, 6))\n",
        "# print(mya)\n",
        "# mya = np.hstack(mya)\n",
        "# print(mya)"
      ]
    },
    {
      "cell_type": "markdown",
      "metadata": {
        "id": "vBdqgiOx43o0"
      },
      "source": [
        "## Copies and Views\n",
        "\n",
        "When working with arrays, their data is sometimes copied and sometimes it isn't. It is important to understand this distinction and when copying occurs so that you don't unexpectedly mutate arrays."
      ]
    },
    {
      "cell_type": "markdown",
      "metadata": {
        "id": "BHa5CgHP8Mah"
      },
      "source": [
        "When you assign an array to a variable **no copying occurs**. This means that manipulating the variable will manipulate the original array."
      ]
    },
    {
      "cell_type": "code",
      "execution_count": 18,
      "metadata": {
        "colab": {
          "base_uri": "https://localhost:8080/"
        },
        "id": "84QEO7gT5A9Q",
        "outputId": "a4628ddf-b91b-44fb-99e9-8ef3bf37e4f7"
      },
      "outputs": [
        {
          "name": "stdout",
          "output_type": "stream",
          "text": [
            "True\n",
            "[[0 1]\n",
            " [2 3]\n",
            " [4 5]\n",
            " [6 7]]\n"
          ]
        }
      ],
      "source": [
        "a = np.array([[ 0,  1,  2,  3],\n",
        "              [ 4,  5,  6,  7]])\n",
        "b = a # no new object is created\n",
        "print(b is a) # a and b are two names for the same ndarray object\n",
        "b.resize((4, 2))\n",
        "# print(b)\n",
        "print(a) # a is mutated along with b"
      ]
    },
    {
      "cell_type": "markdown",
      "metadata": {
        "id": "vyVwAA_c9ADr"
      },
      "source": [
        "Different arrays can share the same data using the `view` method. This means that changing the data of the 'view' object will change the data in the original, but changing other properties, such as the `shape`, will not change anything about the original."
      ]
    },
    {
      "cell_type": "code",
      "execution_count": 17,
      "metadata": {
        "colab": {
          "base_uri": "https://localhost:8080/"
        },
        "id": "2kbLwlvl9GkD",
        "outputId": "ad322beb-0de9-44df-b578-52a6f1c0f063"
      },
      "outputs": [
        {
          "name": "stdout",
          "output_type": "stream",
          "text": [
            "False\n",
            "[[ 0  1]\n",
            " [10 10]\n",
            " [ 4  5]\n",
            " [ 6  7]]\n",
            "[[   0    1]\n",
            " [1234   10]\n",
            " [   4    5]\n",
            " [   6    7]]\n",
            "[   0    1 1234   10    4    5    6    7]\n",
            "[   0    1 1234   10    4    5    6    7]\n"
          ]
        }
      ],
      "source": [
        "c = a.view()\n",
        "print(c is a)\n",
        "print(a)\n",
        "\n",
        "c = c.reshape((2, 4)) # a's shape doesn't change\n",
        "# print(a.shape)\n",
        "\n",
        "# Here we update the value in the first row and the fifth column, which is\n",
        "# effectively the fifth value in the array (reading from left to right, top to bottom)\n",
        "c[0, 2] = 1234 # a's data changes\n",
        "# Therefore the fifth value in a's data is also updated\n",
        "print(a)\n",
        "\n",
        "# We can see the relationship between the data with ravel\n",
        "print(c.ravel())\n",
        "print(a.ravel())"
      ]
    },
    {
      "cell_type": "markdown",
      "metadata": {
        "id": "uZmF8nxT-OnR"
      },
      "source": [
        "Views are returned when you slice an array."
      ]
    },
    {
      "cell_type": "code",
      "execution_count": 21,
      "metadata": {
        "colab": {
          "base_uri": "https://localhost:8080/"
        },
        "id": "Rpz1VOHd-V-W",
        "outputId": "ca3842a4-613f-4169-857c-52098a61f46a"
      },
      "outputs": [
        {
          "name": "stdout",
          "output_type": "stream",
          "text": [
            "[[ 0  1]\n",
            " [10 10]\n",
            " [ 4  5]\n",
            " [ 6  7]]\n"
          ]
        }
      ],
      "source": [
        "s = a[1:2, :] # s is a view on the middle two rows of a\n",
        "s[:] = 10 # So modifying the values of s modifies those same values in a\n",
        "print(a)"
      ]
    },
    {
      "cell_type": "markdown",
      "metadata": {
        "id": "dZ35mw0UrmMj"
      },
      "source": [
        "If you want a complete copy of an array with no connection to the original, use `copy`."
      ]
    },
    {
      "cell_type": "code",
      "execution_count": 24,
      "metadata": {
        "colab": {
          "base_uri": "https://localhost:8080/"
        },
        "id": "_VnMYVS0ryvu",
        "outputId": "c6ed0a26-67a4-44ff-c7cf-2f3caec49562"
      },
      "outputs": [
        {
          "name": "stdout",
          "output_type": "stream",
          "text": [
            "[[9999    1]\n",
            " [  10   10]\n",
            " [   4    5]\n",
            " [   6    7]]\n",
            "[[ 0  1]\n",
            " [10 10]\n",
            " [ 4  5]\n",
            " [ 6  7]]\n"
          ]
        }
      ],
      "source": [
        "d = a.copy()\n",
        "d[0, 0] = 9999\n",
        "print(d)\n",
        "print(a)"
      ]
    },
    {
      "cell_type": "markdown",
      "metadata": {
        "id": "1QNjkop5sJ1V"
      },
      "source": [
        "**Challenge:** Write out what you think the following code will print."
      ]
    },
    {
      "cell_type": "code",
      "execution_count": 23,
      "metadata": {
        "colab": {
          "base_uri": "https://localhost:8080/"
        },
        "id": "edpT-4M3sQLW",
        "outputId": "2f3fc0df-35b6-432d-cfaf-8e4fcdde92af"
      },
      "outputs": [
        {
          "name": "stdout",
          "output_type": "stream",
          "text": [
            "[[90]\n",
            " [90]]\n",
            "[[ 1  2]\n",
            " [90 90]\n",
            " [ 5  6]]\n"
          ]
        }
      ],
      "source": [
        "ma = np.array([1, 2, 3, 4, 5, 6]) \n",
        "ma = ma.reshape((-1, 2)) # (3,2)\n",
        "\n",
        "mb = ma[1] # [3 4]\n",
        "mb[:] = 90  # [90 90]\n",
        "mb = mb.reshape((2, 1)) #[[90], [90]]\n",
        "\n",
        "print(mb)\n",
        "print(ma) # [[1 2] [90 90] [5 6]]"
      ]
    },
    {
      "cell_type": "markdown",
      "metadata": {
        "id": "QKLAXBUDuHgP"
      },
      "source": [
        "## References\n",
        "\n",
        "- [NumPy Quickstart](https://numpy.org/doc/stable/user/quickstart.html)"
      ]
    }
  ],
  "metadata": {
    "colab": {
      "collapsed_sections": [],
      "name": "Organizing-and-Manipulating-NumPy-Arrays.ipynb",
      "provenance": []
    },
    "kernelspec": {
      "display_name": "Python 3",
      "name": "python3"
    },
    "language_info": {
      "codemirror_mode": {
        "name": "ipython",
        "version": 3
      },
      "file_extension": ".py",
      "mimetype": "text/x-python",
      "name": "python",
      "nbconvert_exporter": "python",
      "pygments_lexer": "ipython3",
      "version": "3.13.1"
    }
  },
  "nbformat": 4,
  "nbformat_minor": 0
}
