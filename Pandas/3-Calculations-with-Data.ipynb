{
 "cells": [
  {
   "cell_type": "markdown",
   "metadata": {
    "id": "haIgVKerTm_s"
   },
   "source": [
    "# Python and Data Analysis 3 - Calculations with Data\n",
    "\n",
    "**Goal:** The goal of this project is to learn to calculate information from measured data.\n",
    "\n",
    "**Description:** Data that is given to us is often considered *measured* - it is a real world observation that is recorded and put into a DataFrame. To turn this into information, we need to be able to use the data in calculations. This workshop covers how to create *calculated columns*, and how to calculate *summary statistics*."
   ]
  },
  {
   "cell_type": "markdown",
   "metadata": {
    "id": "onqkQ_nDTm_u"
   },
   "source": [
    "## 3A: Calculated Columns\n",
    "\n",
    "A calculated column is a column that is added to a DataFrame based on existing columns. In the following DataFrame, we have price information for Amazon's stock. It contains the columns `date`, `open`, `high`, `low`, `close`, and `volume`. We can create a calculated column in two ways."
   ]
  },
  {
   "cell_type": "code",
   "execution_count": null,
   "metadata": {
    "colab": {
     "base_uri": "https://localhost:8080/"
    },
    "id": "7osEZ0FfTm_v",
    "outputId": "3be73e01-fb1b-40b3-b97c-3721bcb02d2c"
   },
   "outputs": [],
   "source": [
    "import pandas as pd\n",
    "amzn = pd.read_csv('AMZN.csv')\n",
    "print(amzn.head())"
   ]
  },
  {
   "cell_type": "markdown",
   "metadata": {
    "id": "eQZgsAcuTm_2"
   },
   "source": [
    "### Calculations Across Two Columns\n",
    "\n",
    "Frequently, we want to be able to carry out mathematical operations between two or more columns. The syntax is quite intuitive. For example, we might want to keep track of the daily gains/losses. This can be calculated by subtracting the close price from the opening price: `open - close`. "
   ]
  },
  {
   "cell_type": "code",
   "execution_count": null,
   "metadata": {
    "colab": {
     "base_uri": "https://localhost:8080/"
    },
    "id": "kSkUJOTcTm_2",
    "outputId": "893e9e4d-c6cd-4c8e-a4a1-a82896620ab2"
   },
   "outputs": [],
   "source": [
    "amzn['daily_change'] = amzn['open'] - amzn['close']\n",
    "print(amzn.head())"
   ]
  },
  {
   "cell_type": "markdown",
   "metadata": {
    "id": "dJJJU8UUTm_6"
   },
   "source": [
    "A similar syntax can be used for other operations, including multiplication (`*`), division (`/`), addition (`+`) and exponents (`**`). As another example, perhaps we want an approximation of value of trades executed on a particular day by multiplying an average price by the volume. To get an estimate of average price, we will use `(open + high + low + close) / 4`. The final formula is `((open + high + low + close) / 4) * volume)`."
   ]
  },
  {
   "cell_type": "code",
   "execution_count": null,
   "metadata": {
    "colab": {
     "base_uri": "https://localhost:8080/"
    },
    "id": "6RWGh2SOTm_7",
    "outputId": "ee1972aa-5d17-4284-838f-58c6ee00e041"
   },
   "outputs": [],
   "source": [
    "amzn = amzn.drop(columns=['daily_change']) # Removes the 'daily_change' column we created earlier\n",
    "amzn['daily_value'] = ((amzn['open'] + amzn['high'] + amzn['low'] + amzn['close']) / 4) * amzn['volume']\n",
    "print(amzn.head())"
   ]
  },
  {
   "cell_type": "markdown",
   "metadata": {
    "id": "tMcXZWfqTm__"
   },
   "source": [
    "**Challenges**:\n",
    " - Calculate the difference between the `high` and `low` columns\n",
    " - Return the higher value between the `open` and `close` columns (hint: look into the `max` function)\n",
    " - Return the `close` price as a percentage of the original `close` price (useful when comparing the growth of different stocks)"
   ]
  },
  {
   "cell_type": "code",
   "execution_count": null,
   "metadata": {
    "colab": {
     "base_uri": "https://localhost:8080/"
    },
    "id": "83p4hYs3Ualk",
    "outputId": "0db0ddb1-a6f3-4f22-fb0f-12361fefb985"
   },
   "outputs": [],
   "source": [
    "amzn['difference_high_and_low'] = amzn['high'] - amzn['low']\n",
    "# print(amzn.head())\n",
    "# Note that we have to do the max across the two columns via axis=1 instead of\n",
    "# across all rows\n",
    "higher_value = amzn[['open', 'close']].max(axis=1)\n",
    "print(higher_value)\n",
    "\n",
    "close_growth = amzn['close'].iloc[-1] / amzn['close'].iloc[0] \n",
    "print('Close percentage growth:', f\"{close_growth * 100:.2f}%\")"
   ]
  },
  {
   "cell_type": "markdown",
   "metadata": {
    "id": "MfH6HNsbTnAA"
   },
   "source": [
    "### Operations on a Column\n",
    "\n",
    "There is another way to carry out calculations on a column, but it can easily be used for other operations too. The `apply` function takes a column or entire DataFrame and applies a function to each item. This is convenient when the operation we want to perform for each item is quite complex. Below, we have a function `change_date` that takes a date in the form `YYYY-MM-DD` as a string, and outputs it in the form `Month Day, Year`. "
   ]
  },
  {
   "cell_type": "code",
   "execution_count": null,
   "metadata": {
    "colab": {
     "base_uri": "https://localhost:8080/"
    },
    "id": "NbAeV3J5TnAD",
    "outputId": "641d9567-0f7c-40c2-ef82-86c230bea426"
   },
   "outputs": [],
   "source": [
    "amzn = pd.read_csv('AMZN.csv')\n",
    "def change_date(original_date):\n",
    "    year = original_date[0:4]    # Get the first four characters in the string\n",
    "    month = original_date[5:7]  # Get the month from the string\n",
    "    months = [\"January\", \"February\", \"March\", \"April\", \"May\", \"June\", \"July\",\n",
    "              \"August\", \"September\", \"October\", \"November\", \"December\"]\n",
    "    month_name = months[int(month) - 1] # e.g. int('01') - 1 == 0 giving January\n",
    "    day = original_date[-2:]    # Get the last two characters in the string\n",
    "\n",
    "    return month_name + \" \" + day + \", \" + year\n",
    "\n",
    "print(change_date(amzn['date'][0]))"
   ]
  },
  {
   "cell_type": "markdown",
   "metadata": {
    "id": "Tbp2dY6ETnAN"
   },
   "source": [
    "Because this operation is quite complex, we created a new function for it, and now just need to `apply` `change_date` to our `date` column."
   ]
  },
  {
   "cell_type": "code",
   "execution_count": null,
   "metadata": {
    "colab": {
     "base_uri": "https://localhost:8080/"
    },
    "id": "QnhphSGMTnAT",
    "outputId": "f1817045-b542-456a-a72b-8421c0be0708"
   },
   "outputs": [],
   "source": [
    "amzn['date'] = amzn['date'].apply(change_date)\n",
    "print(amzn.head())"
   ]
  },
  {
   "cell_type": "markdown",
   "metadata": {
    "id": "TdZQa66CTnAb"
   },
   "source": [
    "Ultimately, `apply` allows us to carry out more complex operations on a column, and *abstract* their functionality into helper functions.\n",
    "\n",
    "**Challenge:** create a new `volume_estimate` column by apply a function to the `volume` column which replaces values greater than 10000000 with `'high'` and everything else with `'low'`."
   ]
  },
  {
   "cell_type": "code",
   "execution_count": null,
   "metadata": {
    "colab": {
     "base_uri": "https://localhost:8080/"
    },
    "id": "0sJ9QN_2dDWI",
    "outputId": "33c80146-f111-4de6-9de1-e1efd431bf04"
   },
   "outputs": [],
   "source": [
    "amzn = pd.read_csv('AMZN.csv')\n",
    "\n",
    "def estimate_volume(vol):\n",
    "  if vol > 10000000:\n",
    "    return 'high'\n",
    "  else:\n",
    "    return 'low'\n",
    "\n",
    "amzn['vol_estimate'] = amzn['volume'].apply(estimate_volume)\n",
    "# def estimate_volume(volume):\n",
    "#   return 'high' if volume > 10000000 else 'low'\n",
    "\n",
    "# amzn['volume_estimate'] = amzn['volume'].apply(estimate_volume)\n",
    "print(amzn)"
   ]
  },
  {
   "cell_type": "markdown",
   "metadata": {
    "id": "KFuMvB5CTnAd"
   },
   "source": [
    "## 3B: Summary Statistics"
   ]
  },
  {
   "cell_type": "markdown",
   "metadata": {
    "id": "5xifxUKhTnAf"
   },
   "source": [
    "Previously, we carried out operations to fill each row in a new or existing column with a calculated value. Now we turn our attention to *summary statistics*. These aggregate calculations accross multiple rows within the same column. There are many different types of summary statistics, but common ones are:\n",
    " - `size`: Counts the number of rows in the given column\n",
    " - `count`: Counts the number of rows, excluding NaNs, in the given column\n",
    " - `sum`: Calculates the sum of the values in the given column\n",
    " - `min` and `max`: Calculates the minimum or maximum value in the given column\n",
    " - `mean`, `median`, and `mode`: Calculates the average value in the given column\n",
    " - `std`: Calculates the standard deviation in the given column\n",
    " - `describe`: Many statistics at once\n",
    " \n",
    " Lets look at a few examples:"
   ]
  },
  {
   "cell_type": "markdown",
   "metadata": {
    "id": "LLLMW9oETnAi"
   },
   "source": [
    "Get the mean close price in the `amzn` DataFrame."
   ]
  },
  {
   "cell_type": "code",
   "execution_count": null,
   "metadata": {
    "colab": {
     "base_uri": "https://localhost:8080/"
    },
    "id": "GnV8htrQTnAk",
    "outputId": "2e8a1daf-b2ac-40a9-e4b8-44fc6793148c"
   },
   "outputs": [],
   "source": [
    "amzn = pd.read_csv('AMZN.csv')\n",
    "mean_close = amzn['close'].mean()\n",
    "print(f'{mean_close:.2f}')\n",
    "print(f\"Mean Close Price: {mean_close:.2f}\")"
   ]
  },
  {
   "cell_type": "markdown",
   "metadata": {
    "id": "n4Ka84iVTnAr"
   },
   "source": [
    "Find the highest and lowest close price."
   ]
  },
  {
   "cell_type": "code",
   "execution_count": null,
   "metadata": {
    "colab": {
     "base_uri": "https://localhost:8080/"
    },
    "id": "bg0oFlhWTnAr",
    "outputId": "d19896bd-9717-47e2-c3d3-be1c4db41667"
   },
   "outputs": [],
   "source": [
    "highest_close = amzn['close'].max()\n",
    "print(\"Highest Close Price: \" + str(highest_close))\n",
    "\n",
    "lowest_close = amzn['close'].min()\n",
    "print(\"Lowest Close Price: \" + str(lowest_close))"
   ]
  },
  {
   "cell_type": "markdown",
   "metadata": {
    "id": "DJPtaw76TnAv"
   },
   "source": [
    "Find the median value for both the `high` and `low` column. We can calculate summary statistics on more than one column by passing a list of columns."
   ]
  },
  {
   "cell_type": "code",
   "execution_count": null,
   "metadata": {
    "colab": {
     "base_uri": "https://localhost:8080/"
    },
    "id": "oGrfE1JETnAx",
    "outputId": "2ef8fb41-e368-4ec1-986d-ae3b6831ee55"
   },
   "outputs": [],
   "source": [
    "median_value = amzn[['high', 'low']].median()\n",
    "print(median_value)"
   ]
  },
  {
   "cell_type": "markdown",
   "metadata": {
    "id": "Zk5DvlBuTnA1"
   },
   "source": [
    "Describe the close prices."
   ]
  },
  {
   "cell_type": "code",
   "execution_count": null,
   "metadata": {
    "colab": {
     "base_uri": "https://localhost:8080/"
    },
    "id": "LzJmZuDHTnA1",
    "outputId": "243b5092-ba71-49a2-8533-6f2974a984a6"
   },
   "outputs": [],
   "source": [
    "described = amzn['close'].describe()\n",
    "print(described)"
   ]
  },
  {
   "cell_type": "markdown",
   "metadata": {
    "id": "l833ta45TnA4"
   },
   "source": [
    "**Challenge:** find the greatest difference in `high` and `low` prices on a given day. Think about the steps you need to perform, and whether the given DataFrame contains all the information we need."
   ]
  },
  {
   "cell_type": "code",
   "execution_count": null,
   "metadata": {
    "colab": {
     "base_uri": "https://localhost:8080/"
    },
    "id": "OegVlCLxdyy6",
    "outputId": "49e1401d-6687-4c3c-c02b-904aaf2a3e74"
   },
   "outputs": [],
   "source": [
    "# greatest = (amzn['high'] - amzn['low']).max()\n",
    "f = amzn[['high' ,'low']].max(axis=1)\n",
    "print(f)"
   ]
  },
  {
   "cell_type": "markdown",
   "metadata": {
    "id": "aZyxki3ATnA5"
   },
   "source": [
    "### Summary Statistics by Group"
   ]
  },
  {
   "cell_type": "markdown",
   "metadata": {
    "id": "z2SjhVg4TnA5"
   },
   "source": [
    "If we have data from multiple categories in the same DataFrame, we can split it into separate DataFrames and then calculate the summary statistics. Lets look at the DataFrame we create before, with stock prices for Microsoft, Amazon, Google, and Apple."
   ]
  },
  {
   "cell_type": "code",
   "execution_count": null,
   "metadata": {
    "colab": {
     "base_uri": "https://localhost:8080/"
    },
    "id": "msfhlndqTnA6",
    "outputId": "b19956ed-3b50-4cc9-dfde-6a636e177b63"
   },
   "outputs": [],
   "source": [
    "stock_names = ['MSFT', 'AAPL', 'AMZN', 'GOOG']\n",
    "\n",
    "df = pd.DataFrame()\n",
    "for stock_name in stock_names:\n",
    "    stock_df = pd.read_csv(f'{stock_name}.csv')\n",
    "    stock_df['name'] = stock_name\n",
    "    df = pd.concat([df, stock_df], ignore_index=True)\n",
    "print(df)"
   ]
  },
  {
   "cell_type": "markdown",
   "metadata": {
    "id": "iUGsZULRTnA-"
   },
   "source": [
    "Combining our knowledge of the `groupby` function with our knowledge of summary statistics, we can do the following:"
   ]
  },
  {
   "cell_type": "code",
   "execution_count": null,
   "metadata": {
    "colab": {
     "base_uri": "https://localhost:8080/"
    },
    "id": "ovBVQ0MkTnBB",
    "outputId": "20e30e21-dbd9-43e0-9928-a0bf4323c5fc"
   },
   "outputs": [],
   "source": [
    "stocks = df.groupby('name')\n",
    "for stock in stocks.groups.keys():\n",
    "    stock_df = stocks.get_group(stock)\n",
    "    avg_vol = stock_df['volume'].mean()\n",
    "    print(stock + \" Avg Trading Volume: \" + str(avg_vol))"
   ]
  },
  {
   "cell_type": "markdown",
   "metadata": {
    "id": "_LlMU7xlTnBG"
   },
   "source": [
    "Even more simply, we can do `grouped-object['name-of-col'].summary-statistic()`. "
   ]
  },
  {
   "cell_type": "code",
   "execution_count": null,
   "metadata": {
    "colab": {
     "base_uri": "https://localhost:8080/"
    },
    "id": "3jcLBOtBTnBH",
    "outputId": "857d2fe0-db81-49d9-e115-90fae21adb58"
   },
   "outputs": [],
   "source": [
    "print(stocks['volume'].mean())"
   ]
  },
  {
   "cell_type": "markdown",
   "metadata": {
    "id": "VivqcEiaTnBL"
   },
   "source": [
    "The key takeaway is that Pandas allows us to easily calculate columns, operate on existing columns, and create summary statistics for columns and groups.\n",
    "\n",
    "**Challenge:** Find the greatest average close price across all four stocks and print out the stock along with it's average close."
   ]
  },
  {
   "cell_type": "code",
   "execution_count": null,
   "metadata": {
    "colab": {
     "base_uri": "https://localhost:8080/"
    },
    "id": "YKtr-0-ZfaFl",
    "outputId": "77cf4e19-cdf7-481f-ba29-274b552fa391"
   },
   "outputs": [],
   "source": [
    "avg_close = stocks['close'].mean()\n",
    "greatest_stock = avg_close.idxmax()\n",
    "print(greatest_stock, avg_close[greatest_stock])"
   ]
  },
  {
   "cell_type": "code",
   "execution_count": null,
   "metadata": {},
   "outputs": [],
   "source": []
  }
 ],
 "metadata": {
  "colab": {
   "name": "3-Calculations-with-Data.ipynb",
   "provenance": []
  },
  "kernelspec": {
   "display_name": "Python 3",
   "language": "python",
   "name": "python3"
  },
  "language_info": {
   "codemirror_mode": {
    "name": "ipython",
    "version": 3
   },
   "file_extension": ".py",
   "mimetype": "text/x-python",
   "name": "python",
   "nbconvert_exporter": "python",
   "pygments_lexer": "ipython3",
   "version": "3.13.1"
  }
 },
 "nbformat": 4,
 "nbformat_minor": 4
}
