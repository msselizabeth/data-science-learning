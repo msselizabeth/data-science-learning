{
 "cells": [
  {
   "cell_type": "markdown",
   "metadata": {
    "id": "iUfQKjRmsvI9"
   },
   "source": [
    "# Python and Data Analysis 1 - Introduction to Pandas DataFrames\n",
    "\n",
    "**Goal:** The goal of this project is to become comfortable working with data in Pandas.\n",
    "\n",
    "**Description:** This project will cover the basics of Pandas: importing, manipulating, and filtering data in Pandas DataFrames. Becoming fluent takes practice, but is necessary when building larger data analysis projects. After this project, you should feel comfortable navigating any dataset using Pandas."
   ]
  },
  {
   "cell_type": "markdown",
   "metadata": {
    "id": "teUUo4RcsvJB"
   },
   "source": [
    "## 1A: Data Basics"
   ]
  },
  {
   "cell_type": "markdown",
   "metadata": {
    "id": "At-8N2wfsvJD"
   },
   "source": [
    "### Types of Data\n",
    "\n",
    "At the most fundemental level, there are three kinds of data:\n",
    " - *Qualitative/Categorical*: Country, Industry, Faculty...\n",
    " - *Quantitative/Numerical*: Height, Rank, Price...\n",
    " - *Identifying*: Stock Ticker, Card Number, Product ID\n",
    " \n",
    "Pandas DataFrames can store different data types, but the basic ones we will focus on here are:\n",
    " - *Strings* (`object`): Text\n",
    " - *Integers* (`int64`): Numbers without decimals\n",
    " - *Floats* (`float64`): Numbers with decimals\n",
    " - *Booleans* (`bool`): Values that are either True or False\n",
    " - *DateTimes* (`datetime64`): Values that store a specific date and time"
   ]
  },
  {
   "cell_type": "markdown",
   "metadata": {
    "id": "IKmtob8hsvJF"
   },
   "source": [
    "### Importing and Displaying Data\n",
    "\n",
    "We can import data from CSV (comma separated value) files with `read_csv`. The following stock dataset is sourced from https://www.macrotrends.net/."
   ]
  },
  {
   "cell_type": "code",
   "execution_count": 3,
   "metadata": {
    "id": "rDyZkPVzsvJI"
   },
   "outputs": [],
   "source": [
    "import pandas as pd\n",
    "df = pd.read_csv('MSFT.csv') # Import the CSV"
   ]
  },
  {
   "cell_type": "markdown",
   "metadata": {
    "id": "wHDf39K0svJU"
   },
   "source": [
    "We can then print the entire DataFrame."
   ]
  },
  {
   "cell_type": "code",
   "execution_count": 4,
   "metadata": {
    "colab": {
     "base_uri": "https://localhost:8080/"
    },
    "id": "ITMcye7xsvJV",
    "outputId": "55ccee89-aec0-402a-d972-2e5605440ecd"
   },
   "outputs": [
    {
     "name": "stdout",
     "output_type": "stream",
     "text": [
      "            date      open      high       low     close      volume\n",
      "0     1986-03-13    0.0885    0.1016    0.0885    0.0972  1031788800\n",
      "1     1986-03-14    0.0972    0.1024    0.0972    0.1007   308160000\n",
      "2     1986-03-17    0.1007    0.1033    0.1007    0.1024   133171200\n",
      "3     1986-03-18    0.1024    0.1033    0.0990    0.0998    67766400\n",
      "4     1986-03-19    0.0998    0.1007    0.0972    0.0981    47894400\n",
      "...          ...       ...       ...       ...       ...         ...\n",
      "8629  2020-06-08  185.9400  188.5500  184.4400  188.3600    33123035\n",
      "8630  2020-06-09  188.0000  190.7000  187.2605  189.8000    29783916\n",
      "8631  2020-06-10  191.1250  198.5200  191.0100  196.8400    43568260\n",
      "8632  2020-06-11  193.1300  195.7600  186.0700  186.2700    52645278\n",
      "8633  2020-06-12  190.5400  191.7200  185.1800  187.7400    43373587\n",
      "\n",
      "[8634 rows x 6 columns]\n"
     ]
    }
   ],
   "source": [
    "print(df)"
   ]
  },
  {
   "cell_type": "markdown",
   "metadata": {
    "id": "IQ9gQPpgsvJe"
   },
   "source": [
    "Print the first five rows with `head`."
   ]
  },
  {
   "cell_type": "code",
   "execution_count": null,
   "metadata": {
    "colab": {
     "base_uri": "https://localhost:8080/"
    },
    "id": "N0u-4RzFsvJf",
    "outputId": "2c8ac350-bb3a-4ced-8f5b-6c8c969ddbfc"
   },
   "outputs": [],
   "source": [
    "print(df.head())"
   ]
  },
  {
   "cell_type": "markdown",
   "metadata": {
    "id": "upkIDj9ZsvJk"
   },
   "source": [
    "Print the last five rows with `tail`."
   ]
  },
  {
   "cell_type": "code",
   "execution_count": 3,
   "metadata": {
    "colab": {
     "base_uri": "https://localhost:8080/"
    },
    "id": "qdrvbvhgsvJl",
    "outputId": "8fb3531e-b262-4dfb-88e8-bf6b901ce92b"
   },
   "outputs": [
    {
     "name": "stdout",
     "output_type": "stream",
     "text": [
      "            date     open    high       low   close    volume\n",
      "8629  2020-06-08  185.940  188.55  184.4400  188.36  33123035\n",
      "8630  2020-06-09  188.000  190.70  187.2605  189.80  29783916\n",
      "8631  2020-06-10  191.125  198.52  191.0100  196.84  43568260\n",
      "8632  2020-06-11  193.130  195.76  186.0700  186.27  52645278\n",
      "8633  2020-06-12  190.540  191.72  185.1800  187.74  43373587\n"
     ]
    }
   ],
   "source": [
    "print(df.tail())"
   ]
  },
  {
   "cell_type": "markdown",
   "metadata": {
    "id": "Ho2qLVGksvJq"
   },
   "source": [
    "Use `dtype` to determine the type of data."
   ]
  },
  {
   "cell_type": "code",
   "execution_count": 13,
   "metadata": {
    "colab": {
     "base_uri": "https://localhost:8080/"
    },
    "id": "L3AP99bRsvJr",
    "outputId": "112386b7-8bc6-4cf8-a0b6-21446e3ccfee"
   },
   "outputs": [
    {
     "data": {
      "text/plain": [
       "dtype('float64')"
      ]
     },
     "execution_count": 13,
     "metadata": {},
     "output_type": "execute_result"
    }
   ],
   "source": [
    "df['close'].dtype # Find the type of data in the 'close' column"
   ]
  },
  {
   "cell_type": "markdown",
   "metadata": {
    "id": "9xbFIttGtotR"
   },
   "source": [
    "**Challenge**: Guess what the data type of the 'volume' column is, then write code to display it."
   ]
  },
  {
   "cell_type": "code",
   "execution_count": 5,
   "metadata": {
    "colab": {
     "base_uri": "https://localhost:8080/"
    },
    "id": "fS2vFBlQthZm",
    "outputId": "002c81c9-3556-4232-fa2c-2d5968376605"
   },
   "outputs": [
    {
     "data": {
      "text/plain": [
       "dtype('int64')"
      ]
     },
     "execution_count": 5,
     "metadata": {},
     "output_type": "execute_result"
    }
   ],
   "source": [
    "df['volume'].dtype"
   ]
  },
  {
   "cell_type": "markdown",
   "metadata": {
    "id": "abOJTt0YsvJv"
   },
   "source": [
    "### DataFrame Elements\n",
    "\n",
    "DataFrames have three key elements:\n",
    " - *Data*: The content of the DataFrame\n",
    " - *Columns*: Horizontal headings (`date`, `open`, `high`, `low`, `close`, `volume`) uniquelely identifying a column\n",
    " - *Index*: Vertical values uniquely identifying a row (the numbers on the leftmost side)\n",
    " \n",
    " \n",
    "Note: The *position* of a column or index is the order in which it appears, starting from 0. The column positions are numbered 0, 1, 2, 3, 4, 5, in order of appearance. In this DataFrame, the index is the same as the index position for all rows (index at position 0 has value 0)."
   ]
  },
  {
   "cell_type": "markdown",
   "metadata": {
    "id": "Sh2_uhAUsvJv"
   },
   "source": [
    "## 1B: Slicing and Dicing Data"
   ]
  },
  {
   "cell_type": "markdown",
   "metadata": {
    "id": "NORQmkUQsvJx"
   },
   "source": [
    "When analyzing data, we need to be able to manipulate DataFrames to select the exact subset of data that we want. Here, we will cover a few key techniques."
   ]
  },
  {
   "cell_type": "markdown",
   "metadata": {
    "id": "gImVuIcjsvJx"
   },
   "source": [
    "### Column Select\n",
    "\n",
    "If we want to get data from a particular column, we can use the syntax `df-name['column-name']`. This returns a Pandas *Series*. For example, if we want to get the `date` column from the DataFrame called `df`, we can do:"
   ]
  },
  {
   "cell_type": "code",
   "execution_count": 16,
   "metadata": {
    "colab": {
     "base_uri": "https://localhost:8080/"
    },
    "id": "U6LuhOczsvJy",
    "outputId": "ec190d1d-b47a-4cae-e61b-36b8e713601b"
   },
   "outputs": [
    {
     "name": "stdout",
     "output_type": "stream",
     "text": [
      "0         0.0885\n",
      "1         0.0972\n",
      "2         0.1007\n",
      "3         0.0990\n",
      "4         0.0972\n",
      "          ...   \n",
      "8629    184.4400\n",
      "8630    187.2605\n",
      "8631    191.0100\n",
      "8632    186.0700\n",
      "8633    185.1800\n",
      "Name: low, Length: 8634, dtype: float64\n"
     ]
    }
   ],
   "source": [
    "dates = df['low']\n",
    "print(dates)"
   ]
  },
  {
   "cell_type": "markdown",
   "metadata": {
    "id": "I1ftliJosvJ1"
   },
   "source": [
    "To select multiple columns, we use `df-name[['col1', 'col2', ...]]`. Instead of passing a single column, we pass a list of columns. Instead of returning a Series, Pandas will return a DataFrame. This also allows us to rearrange the order of columns."
   ]
  },
  {
   "cell_type": "code",
   "execution_count": 17,
   "metadata": {
    "colab": {
     "base_uri": "https://localhost:8080/"
    },
    "id": "9JC-kb_-svJ2",
    "outputId": "ef36eccf-5aa0-453a-b404-7a1d6a8b85bc"
   },
   "outputs": [
    {
     "name": "stdout",
     "output_type": "stream",
     "text": [
      "          volume     close        date\n",
      "0     1031788800    0.0972  1986-03-13\n",
      "1      308160000    0.1007  1986-03-14\n",
      "2      133171200    0.1024  1986-03-17\n",
      "3       67766400    0.0998  1986-03-18\n",
      "4       47894400    0.0981  1986-03-19\n",
      "...          ...       ...         ...\n",
      "8629    33123035  188.3600  2020-06-08\n",
      "8630    29783916  189.8000  2020-06-09\n",
      "8631    43568260  196.8400  2020-06-10\n",
      "8632    52645278  186.2700  2020-06-11\n",
      "8633    43373587  187.7400  2020-06-12\n",
      "\n",
      "[8634 rows x 3 columns]\n"
     ]
    }
   ],
   "source": [
    "multiple_cols = df[['volume', 'close', 'date']]\n",
    "print(multiple_cols)"
   ]
  },
  {
   "cell_type": "markdown",
   "metadata": {
    "id": "JPms4Wr8wqrC"
   },
   "source": [
    "**Challenge**: Print out the 'high' and 'low' columns."
   ]
  },
  {
   "cell_type": "code",
   "execution_count": null,
   "metadata": {
    "colab": {
     "base_uri": "https://localhost:8080/"
    },
    "id": "KqiRTPkVwiXT",
    "outputId": "292e7fd1-fcb5-455e-8e92-55f7b69f665d"
   },
   "outputs": [],
   "source": [
    "print(df[['high', 'low']])"
   ]
  },
  {
   "cell_type": "markdown",
   "metadata": {
    "id": "wpPZZXa_svJ6"
   },
   "source": [
    "### Row Select"
   ]
  },
  {
   "cell_type": "markdown",
   "metadata": {
    "id": "ENmJShGWsvJ6"
   },
   "source": [
    "Pandas provides two ways to select particular rows from a DataFrame."
   ]
  },
  {
   "cell_type": "markdown",
   "metadata": {
    "id": "l0N_ueEPsvJ7"
   },
   "source": [
    "#### Row Select by Value\n",
    "\n",
    "We use the row's index value to select the row, following the syntax `df_name.loc[index_value]`. This will return a Series. Here, the index value is the same as its position (the index value at position 0 is 0), but this is not always the case. The index value can be a non-integer, but its position will always be an integer from 0 to the number of rows minus one."
   ]
  },
  {
   "cell_type": "code",
   "execution_count": 21,
   "metadata": {
    "colab": {
     "base_uri": "https://localhost:8080/"
    },
    "id": "eDuNp1G3svJ7",
    "outputId": "add668b3-9582-48a4-aae5-a474f986801b"
   },
   "outputs": [
    {
     "name": "stdout",
     "output_type": "stream",
     "text": [
      "date      1986-03-13\n",
      "open          0.0885\n",
      "high          0.1016\n",
      "low           0.0885\n",
      "close         0.0972\n",
      "volume    1031788800\n",
      "Name: 0, dtype: object\n"
     ]
    }
   ],
   "source": [
    "first_row = df.loc[0]\n",
    "print(first_row)"
   ]
  },
  {
   "cell_type": "markdown",
   "metadata": {
    "id": "gqVB09JWsvJ-"
   },
   "source": [
    "For multiple rows, we can pass a list of rows, or a range using `df_name.loc[[values_list]]` or `df_name.loc[start_value:end_value]`."
   ]
  },
  {
   "cell_type": "code",
   "execution_count": null,
   "metadata": {
    "colab": {
     "base_uri": "https://localhost:8080/"
    },
    "id": "PT9Ct0g2svJ-",
    "outputId": "c1015cb7-3216-4f68-b9e0-186e77c12f4c"
   },
   "outputs": [],
   "source": [
    "first_five_rows = df.loc[[0,1,2,3,4]] # Access the rows with index 0,1,2,3,4\n",
    "print(first_five_rows)\n",
    "\n",
    "first_five_rows_range = df.loc[0:4] # Access the rows starting with index 0 up to and including index 4\n",
    "print(first_five_rows_range)"
   ]
  },
  {
   "cell_type": "markdown",
   "metadata": {
    "id": "SUVyT6X7zi1U"
   },
   "source": [
    "**Challenge**: Print out rows with index values 1000 to 2000, then print out rows with index values 1000, 1500, and 2000."
   ]
  },
  {
   "cell_type": "code",
   "execution_count": 23,
   "metadata": {
    "colab": {
     "base_uri": "https://localhost:8080/"
    },
    "id": "Iw-y_Y-8zH9C",
    "outputId": "87803df4-636b-483c-c7a0-2744018f7cff"
   },
   "outputs": [
    {
     "name": "stdout",
     "output_type": "stream",
     "text": [
      "            date    open    high     low   close     volume\n",
      "1000  1990-02-26  0.6771  0.6944  0.6753  0.6892   69219216\n",
      "1500  1992-02-18  2.4844  2.5469  2.4583  2.4635   73692816\n",
      "2000  1994-02-07  2.4922  2.5391  2.4844  2.5234  118851200\n"
     ]
    }
   ],
   "source": [
    "rows_1000_to_2000 = df.loc[1000:2000]\n",
    "# print(rows_1000_to_2000)\n",
    "\n",
    "rows = df.loc[[1000, 1500, 2000]]\n",
    "print(rows)\n",
    "\n",
    "# print(df.loc[1000:2000])\n",
    "# print(df.loc[[1000, 1500, 2000]])"
   ]
  },
  {
   "cell_type": "markdown",
   "metadata": {
    "id": "5tswWZLvsvKD"
   },
   "source": [
    "#### Row Select by Position\n",
    "\n",
    "Instead of using the value of the index, we can also use its position. This is useful if our index values are not common-sense integers. If our index was a string, but we wanted to select the first 20 rows of data, `loc` would not work unless we knew the first 20 values in our index. With the exception of using positions instead of values, `iloc` is quite similar to `loc`. We use the syntax `df_name.iloc[index_position]` for a single row and `df_name.iloc[[positions_list]]` or `df_name.iloc[start_position:end_position]` for multiple rows."
   ]
  },
  {
   "cell_type": "code",
   "execution_count": 25,
   "metadata": {
    "colab": {
     "base_uri": "https://localhost:8080/"
    },
    "id": "3DIzyXdzsvKE",
    "outputId": "8c4980f2-0882-42fc-b619-f1e874244fd4"
   },
   "outputs": [
    {
     "name": "stdout",
     "output_type": "stream",
     "text": [
      "            date     open    high       low   close    volume\n",
      "8629  2020-06-08  185.940  188.55  184.4400  188.36  33123035\n",
      "8630  2020-06-09  188.000  190.70  187.2605  189.80  29783916\n",
      "8631  2020-06-10  191.125  198.52  191.0100  196.84  43568260\n",
      "8632  2020-06-11  193.130  195.76  186.0700  186.27  52645278\n",
      "8633  2020-06-12  190.540  191.72  185.1800  187.74  43373587\n"
     ]
    }
   ],
   "source": [
    "row_at_position_4 = df.iloc[4] # Access row with position 4\n",
    "# print(row_at_position_4)\n",
    "\n",
    "last_five_rows = df.iloc[[-5,-4,-3,-2,-1]] # Access rows with positions -5,-4,-3,-2,-1\n",
    "# print(last_five_rows)\n",
    "\n",
    "last_five_rows_range = df.iloc[-5:] # Access rows with positions -5 to the end\n",
    "print(last_five_rows_range)"
   ]
  },
  {
   "cell_type": "markdown",
   "metadata": {
    "id": "DWhup17x0vXU"
   },
   "source": [
    "**Challenge**: Select the last 2000 rows in the dataframe **except for the last row**. Hint: the last row always has position -1."
   ]
  },
  {
   "cell_type": "code",
   "execution_count": 26,
   "metadata": {
    "colab": {
     "base_uri": "https://localhost:8080/"
    },
    "id": "2pshtfYG0jtf",
    "outputId": "592c6575-a02f-4c62-a6de-a22871d498c8"
   },
   "outputs": [
    {
     "name": "stdout",
     "output_type": "stream",
     "text": [
      "            date      open      high       low     close     volume\n",
      "2000  1994-02-07    2.4922    2.5391    2.4844    2.5234  118851200\n",
      "2001  1994-02-08    2.5156    2.5156    2.4375    2.4609  149875200\n",
      "2002  1994-02-09    2.4531    2.5078    2.4375    2.4881   98585600\n",
      "2003  1994-02-10    2.4922    2.5234    2.4688    2.4803   66620800\n",
      "2004  1994-02-11    2.4766    2.4844    2.4375    2.4609   53747200\n",
      "...          ...       ...       ...       ...       ...        ...\n",
      "8628  2020-06-05  182.6200  187.7300  182.0100  187.2000   39893643\n",
      "8629  2020-06-08  185.9400  188.5500  184.4400  188.3600   33123035\n",
      "8630  2020-06-09  188.0000  190.7000  187.2605  189.8000   29783916\n",
      "8631  2020-06-10  191.1250  198.5200  191.0100  196.8400   43568260\n",
      "8632  2020-06-11  193.1300  195.7600  186.0700  186.2700   52645278\n",
      "\n",
      "[6633 rows x 6 columns]\n"
     ]
    }
   ],
   "source": [
    "print(df.iloc[2000: -1])"
   ]
  },
  {
   "cell_type": "markdown",
   "metadata": {
    "id": "noIrborNsvKH"
   },
   "source": [
    "### Subsection Select"
   ]
  },
  {
   "cell_type": "markdown",
   "metadata": {
    "id": "tT0GrqZ8svKI"
   },
   "source": [
    "To select a subsection of rows and columns at the same time, we can use either `df_name.loc[row_values, column_values]` or `df_name.iloc[row_positions, column_positions]`. The key difference is `loc` takes the value itself, whereas `iloc` takes the position."
   ]
  },
  {
   "cell_type": "code",
   "execution_count": 33,
   "metadata": {
    "colab": {
     "base_uri": "https://localhost:8080/"
    },
    "id": "-QO_tETxsvKJ",
    "outputId": "58ca77da-c4c3-41ae-a05d-b89e1f23937d"
   },
   "outputs": [
    {
     "name": "stdout",
     "output_type": "stream",
     "text": [
      "            date   close    volume\n",
      "8631  2020-06-10  196.84  43568260\n",
      "8632  2020-06-11  186.27  52645278\n"
     ]
    }
   ],
   "source": [
    "first_5_close_and_vol = df.loc[[0,1,2,3,4], ['close', 'volume']] # Access the 'close' and 'volume' columns for the rows with index values 0,1,2,3,4\n",
    "# print(first_5_close_and_vol)\n",
    "\n",
    "last_2_date_close_and_volume = df.iloc[-3:-1, [0,4,5]] # Access the 'date' and 'close' and 'volume' columns for rows with index position -2 to the end\n",
    "print(last_2_date_close_and_volume)"
   ]
  },
  {
   "cell_type": "markdown",
   "metadata": {
    "id": "62uinf9xsvKM"
   },
   "source": [
    "**Challenge**: Select and display the `high` and `low` prices for the first row, last row, and row 5000 using both `loc` and `iloc`. When you use `iloc`, try to ensure it accesses the last row regardless of the number of rows in the dataframe."
   ]
  },
  {
   "cell_type": "code",
   "execution_count": 46,
   "metadata": {
    "colab": {
     "base_uri": "https://localhost:8080/"
    },
    "id": "zLK5ELOO14fP",
    "outputId": "fcca2180-5284-428a-8289-3939147f3315"
   },
   "outputs": [
    {
     "name": "stdout",
     "output_type": "stream",
     "text": [
      "          high       low\n",
      "0       0.1016    0.0885\n",
      "5000   27.1300   26.9100\n",
      "8633  191.7200  185.1800\n",
      "          high       low\n",
      "0       0.1016    0.0885\n",
      "5000   27.1300   26.9100\n",
      "8633  191.7200  185.1800\n"
     ]
    }
   ],
   "source": [
    "# print(df.loc[[0, 5000, 8633], ['high', 'low']])\n",
    "# print(df.iloc[[0, 5000, -1], [2, 3]])\n",
    "\n",
    "rows = df.loc[[0, 5000, len(df) - 1], [\"high\", \"low\"]]\n",
    "print(rows)\n",
    "\n",
    "rows_2 = df.iloc[[0, 5000, -1], [2, 3]]\n",
    "print(rows_2)"
   ]
  },
  {
   "cell_type": "markdown",
   "metadata": {
    "id": "9oqlYzHmsvKM"
   },
   "source": [
    "## 1C: Filtering Data"
   ]
  },
  {
   "cell_type": "markdown",
   "metadata": {
    "id": "nPHlyEA_svKN"
   },
   "source": [
    "Perhaps more interesting than manually selecting data, *filtering* allows us to access a subset of rows based on a condition or set of conditions. For example, if we were only interested in rows where the high price was greater than 1, we would filter out all other rows. To do this, we use the syntax `df_name[condition]`."
   ]
  },
  {
   "cell_type": "code",
   "execution_count": 47,
   "metadata": {
    "colab": {
     "base_uri": "https://localhost:8080/"
    },
    "id": "M7vCnZRysvKN",
    "outputId": "37ef4431-5552-4630-8232-f51a33c30089"
   },
   "outputs": [
    {
     "name": "stdout",
     "output_type": "stream",
     "text": [
      "            date      open      high       low     close     volume\n",
      "1059  1990-05-21    0.9549    1.0035    0.9549    0.9757  159593616\n",
      "1060  1990-05-22    0.9861    1.0035    0.9583    0.9931  142435224\n",
      "1061  1990-05-23    1.0000    1.0556    0.9982    1.0538  141180768\n",
      "1062  1990-05-24    1.0660    1.0938    1.0556    1.0625  146649600\n",
      "1063  1990-05-25    1.0313    1.0590    1.0278    1.0313  104688000\n",
      "...          ...       ...       ...       ...       ...        ...\n",
      "8629  2020-06-08  185.9400  188.5500  184.4400  188.3600   33123035\n",
      "8630  2020-06-09  188.0000  190.7000  187.2605  189.8000   29783916\n",
      "8631  2020-06-10  191.1250  198.5200  191.0100  196.8400   43568260\n",
      "8632  2020-06-11  193.1300  195.7600  186.0700  186.2700   52645278\n",
      "8633  2020-06-12  190.5400  191.7200  185.1800  187.7400   43373587\n",
      "\n",
      "[7488 rows x 6 columns]\n"
     ]
    }
   ],
   "source": [
    "filtered = df[df['high'] > 1] # Select only the rows where high > 1\n",
    "print(filtered)"
   ]
  },
  {
   "cell_type": "markdown",
   "metadata": {
    "id": "DoCFInoLsvKP"
   },
   "source": [
    "We can combine more than one condition using the bitwise comparators `&` (and) and `|` (or). If we wanted the rows where `volume` was larger than 35 Million and `close` was greater than 184, we could combine the two conditions with `&`."
   ]
  },
  {
   "cell_type": "code",
   "execution_count": 48,
   "metadata": {
    "colab": {
     "base_uri": "https://localhost:8080/"
    },
    "id": "oh0Lf6llsvKQ",
    "outputId": "e30a8cfe-adda-4a6e-90bd-ddeec4ccda34"
   },
   "outputs": [
    {
     "name": "stdout",
     "output_type": "stream",
     "text": [
      "            date     open    high     low   close    volume\n",
      "8547  2020-02-10  183.580  188.84  183.25  188.70  35844267\n",
      "8548  2020-02-11  190.650  190.70  183.50  184.44  53159906\n",
      "8549  2020-02-12  185.580  185.85  181.85  184.71  47062921\n",
      "8554  2020-02-20  186.950  187.25  181.10  184.42  36862376\n",
      "8615  2020-05-18  185.750  186.20  183.96  184.91  35306620\n",
      "8628  2020-06-05  182.620  187.73  182.01  187.20  39893643\n",
      "8631  2020-06-10  191.125  198.52  191.01  196.84  43568260\n",
      "8632  2020-06-11  193.130  195.76  186.07  186.27  52645278\n",
      "8633  2020-06-12  190.540  191.72  185.18  187.74  43373587\n"
     ]
    }
   ],
   "source": [
    "filtered = df[(df['volume'] > 35000000) & (df['close'] > 184)]\n",
    "print(filtered)"
   ]
  },
  {
   "cell_type": "markdown",
   "metadata": {
    "id": "x52sRGBOsvKS"
   },
   "source": [
    "Notice that the number of rows decreases the more conditions we combine. This makes sense, because as we combine conditions, more rows fail to meet the criteria and are filtered out, resulting in a smaller DataFrame.\n",
    "\n",
    "**Challenge**: Try selecting and displaying only the rows where the difference between the open and close price is greater than 5. Note: you can get the difference between two columns by subtracting them."
   ]
  },
  {
   "cell_type": "code",
   "execution_count": null,
   "metadata": {
    "id": "6LYqaAwBsvKT"
   },
   "outputs": [
    {
     "name": "stdout",
     "output_type": "stream",
     "text": [
      "            date      open      high       low   close    volume\n",
      "8076  2018-03-27   94.9400   95.1390   88.5100   89.47  56569011\n",
      "8213  2018-10-10  111.2400  111.5000  105.7900  106.16  61376315\n",
      "8223  2018-10-24  108.4100  108.4900  101.5901  102.32  63897759\n",
      "8548  2020-02-11  190.6500  190.7000  183.5000  184.44  53159906\n",
      "8557  2020-02-25  174.2000  174.8400  167.6462  168.07  68073295\n",
      "8559  2020-02-27  163.3200  167.0300  157.9800  158.18  93174906\n",
      "8562  2020-03-03  173.8000  175.0000  162.2600  164.51  71677019\n",
      "8569  2020-03-12  145.3000  153.4700  138.5800  139.06  93226366\n",
      "8575  2020-03-20  146.0000  147.1000  135.8600  137.35  84866215\n",
      "8587  2020-04-07  169.5923  170.0000  163.2600  163.49  62415153\n",
      "8596  2020-04-21  173.5000  173.6699  166.1102  167.82  56203749\n",
      "8601  2020-04-28  175.4556  175.6700  169.3900  169.81  33687238\n",
      "8632  2020-06-11  193.1300  195.7600  186.0700  186.27  52645278\n"
     ]
    }
   ],
   "source": [
    "result = df[(df[\"open\"] - df[\"close\"]) > 5]\n",
    "print(result)"
   ]
  }
 ],
 "metadata": {
  "colab": {
   "name": "1-Introduction-to-Pandas-DataFrames.ipynb",
   "provenance": []
  },
  "kernelspec": {
   "display_name": "Python 3",
   "language": "python",
   "name": "python3"
  },
  "language_info": {
   "codemirror_mode": {
    "name": "ipython",
    "version": 3
   },
   "file_extension": ".py",
   "mimetype": "text/x-python",
   "name": "python",
   "nbconvert_exporter": "python",
   "pygments_lexer": "ipython3",
   "version": "3.13.1"
  }
 },
 "nbformat": 4,
 "nbformat_minor": 4
}
