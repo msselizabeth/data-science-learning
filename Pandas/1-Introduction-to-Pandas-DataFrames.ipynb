{
 "cells": [
  {
   "cell_type": "markdown",
   "metadata": {
    "id": "iUfQKjRmsvI9"
   },
   "source": [
    "# Python and Data Analysis 1 - Introduction to Pandas DataFrames\n",
    "\n",
    "**Goal:** The goal of this project is to become comfortable working with data in Pandas.\n",
    "\n",
    "**Description:** This project will cover the basics of Pandas: importing, manipulating, and filtering data in Pandas DataFrames. Becoming fluent takes practice, but is necessary when building larger data analysis projects. After this project, you should feel comfortable navigating any dataset using Pandas."
   ]
  },
  {
   "cell_type": "markdown",
   "metadata": {
    "id": "teUUo4RcsvJB"
   },
   "source": [
    "## 1A: Data Basics"
   ]
  },
  {
   "cell_type": "markdown",
   "metadata": {
    "id": "At-8N2wfsvJD"
   },
   "source": [
    "### Types of Data\n",
    "\n",
    "At the most fundemental level, there are three kinds of data:\n",
    " - *Qualitative/Categorical*: Country, Industry, Faculty...\n",
    " - *Quantitative/Numerical*: Height, Rank, Price...\n",
    " - *Identifying*: Stock Ticker, Card Number, Product ID\n",
    " \n",
    "Pandas DataFrames can store different data types, but the basic ones we will focus on here are:\n",
    " - *Strings* (`object`): Text\n",
    " - *Integers* (`int64`): Numbers without decimals\n",
    " - *Floats* (`float64`): Numbers with decimals\n",
    " - *Booleans* (`bool`): Values that are either True or False\n",
    " - *DateTimes* (`datetime64`): Values that store a specific date and time"
   ]
  },
  {
   "cell_type": "markdown",
   "metadata": {
    "id": "IKmtob8hsvJF"
   },
   "source": [
    "### Importing and Displaying Data\n",
    "\n",
    "We can import data from CSV (comma separated value) files with `read_csv`. The following stock dataset is sourced from https://www.macrotrends.net/."
   ]
  },
  {
   "cell_type": "code",
   "execution_count": null,
   "metadata": {
    "id": "rDyZkPVzsvJI"
   },
   "outputs": [],
   "source": [
    "import pandas as pd\n",
    "df = pd.read_csv('MSFT.csv') # Import the CSV"
   ]
  },
  {
   "cell_type": "markdown",
   "metadata": {
    "id": "wHDf39K0svJU"
   },
   "source": [
    "We can then print the entire DataFrame."
   ]
  },
  {
   "cell_type": "code",
   "execution_count": null,
   "metadata": {
    "colab": {
     "base_uri": "https://localhost:8080/"
    },
    "id": "ITMcye7xsvJV",
    "outputId": "55ccee89-aec0-402a-d972-2e5605440ecd"
   },
   "outputs": [],
   "source": [
    "print(df)"
   ]
  },
  {
   "cell_type": "markdown",
   "metadata": {
    "id": "IQ9gQPpgsvJe"
   },
   "source": [
    "Print the first five rows with `head`."
   ]
  },
  {
   "cell_type": "code",
   "execution_count": null,
   "metadata": {
    "colab": {
     "base_uri": "https://localhost:8080/"
    },
    "id": "N0u-4RzFsvJf",
    "outputId": "2c8ac350-bb3a-4ced-8f5b-6c8c969ddbfc"
   },
   "outputs": [],
   "source": [
    "print(df.head())"
   ]
  },
  {
   "cell_type": "markdown",
   "metadata": {
    "id": "upkIDj9ZsvJk"
   },
   "source": [
    "Print the last five rows with `tail`."
   ]
  },
  {
   "cell_type": "code",
   "execution_count": null,
   "metadata": {
    "colab": {
     "base_uri": "https://localhost:8080/"
    },
    "id": "qdrvbvhgsvJl",
    "outputId": "8fb3531e-b262-4dfb-88e8-bf6b901ce92b"
   },
   "outputs": [],
   "source": [
    "print(df.tail())"
   ]
  },
  {
   "cell_type": "markdown",
   "metadata": {
    "id": "Ho2qLVGksvJq"
   },
   "source": [
    "Use `dtype` to determine the type of data."
   ]
  },
  {
   "cell_type": "code",
   "execution_count": null,
   "metadata": {
    "colab": {
     "base_uri": "https://localhost:8080/"
    },
    "id": "L3AP99bRsvJr",
    "outputId": "112386b7-8bc6-4cf8-a0b6-21446e3ccfee"
   },
   "outputs": [],
   "source": [
    "df['close'].dtype # Find the type of data in the 'close' column"
   ]
  },
  {
   "cell_type": "markdown",
   "metadata": {
    "id": "9xbFIttGtotR"
   },
   "source": [
    "**Challenge**: Guess what the data type of the 'volume' column is, then write code to display it."
   ]
  },
  {
   "cell_type": "code",
   "execution_count": null,
   "metadata": {
    "colab": {
     "base_uri": "https://localhost:8080/"
    },
    "id": "fS2vFBlQthZm",
    "outputId": "002c81c9-3556-4232-fa2c-2d5968376605"
   },
   "outputs": [],
   "source": [
    "df['volume'].dtype"
   ]
  },
  {
   "cell_type": "markdown",
   "metadata": {
    "id": "abOJTt0YsvJv"
   },
   "source": [
    "### DataFrame Elements\n",
    "\n",
    "DataFrames have three key elements:\n",
    " - *Data*: The content of the DataFrame\n",
    " - *Columns*: Horizontal headings (`date`, `open`, `high`, `low`, `close`, `volume`) uniquelely identifying a column\n",
    " - *Index*: Vertical values uniquely identifying a row (the numbers on the leftmost side)\n",
    " \n",
    " \n",
    "Note: The *position* of a column or index is the order in which it appears, starting from 0. The column positions are numbered 0, 1, 2, 3, 4, 5, in order of appearance. In this DataFrame, the index is the same as the index position for all rows (index at position 0 has value 0)."
   ]
  },
  {
   "cell_type": "markdown",
   "metadata": {
    "id": "Sh2_uhAUsvJv"
   },
   "source": [
    "## 1B: Slicing and Dicing Data"
   ]
  },
  {
   "cell_type": "markdown",
   "metadata": {
    "id": "NORQmkUQsvJx"
   },
   "source": [
    "When analyzing data, we need to be able to manipulate DataFrames to select the exact subset of data that we want. Here, we will cover a few key techniques."
   ]
  },
  {
   "cell_type": "markdown",
   "metadata": {
    "id": "gImVuIcjsvJx"
   },
   "source": [
    "### Column Select\n",
    "\n",
    "If we want to get data from a particular column, we can use the syntax `df-name['column-name']`. This returns a Pandas *Series*. For example, if we want to get the `date` column from the DataFrame called `df`, we can do:"
   ]
  },
  {
   "cell_type": "code",
   "execution_count": null,
   "metadata": {
    "colab": {
     "base_uri": "https://localhost:8080/"
    },
    "id": "U6LuhOczsvJy",
    "outputId": "ec190d1d-b47a-4cae-e61b-36b8e713601b"
   },
   "outputs": [],
   "source": [
    "dates = df['low']\n",
    "print(dates)"
   ]
  },
  {
   "cell_type": "markdown",
   "metadata": {
    "id": "I1ftliJosvJ1"
   },
   "source": [
    "To select multiple columns, we use `df-name[['col1', 'col2', ...]]`. Instead of passing a single column, we pass a list of columns. Instead of returning a Series, Pandas will return a DataFrame. This also allows us to rearrange the order of columns."
   ]
  },
  {
   "cell_type": "code",
   "execution_count": null,
   "metadata": {
    "colab": {
     "base_uri": "https://localhost:8080/"
    },
    "id": "9JC-kb_-svJ2",
    "outputId": "ef36eccf-5aa0-453a-b404-7a1d6a8b85bc"
   },
   "outputs": [],
   "source": [
    "multiple_cols = df[['volume', 'close', 'date']]\n",
    "print(multiple_cols)"
   ]
  },
  {
   "cell_type": "markdown",
   "metadata": {
    "id": "JPms4Wr8wqrC"
   },
   "source": [
    "**Challenge**: Print out the 'high' and 'low' columns."
   ]
  },
  {
   "cell_type": "code",
   "execution_count": null,
   "metadata": {
    "colab": {
     "base_uri": "https://localhost:8080/"
    },
    "id": "KqiRTPkVwiXT",
    "outputId": "292e7fd1-fcb5-455e-8e92-55f7b69f665d"
   },
   "outputs": [],
   "source": [
    "print(df[['high', 'low']])"
   ]
  },
  {
   "cell_type": "markdown",
   "metadata": {
    "id": "wpPZZXa_svJ6"
   },
   "source": [
    "### Row Select"
   ]
  },
  {
   "cell_type": "markdown",
   "metadata": {
    "id": "ENmJShGWsvJ6"
   },
   "source": [
    "Pandas provides two ways to select particular rows from a DataFrame."
   ]
  },
  {
   "cell_type": "markdown",
   "metadata": {
    "id": "l0N_ueEPsvJ7"
   },
   "source": [
    "#### Row Select by Value\n",
    "\n",
    "We use the row's index value to select the row, following the syntax `df_name.loc[index_value]`. This will return a Series. Here, the index value is the same as its position (the index value at position 0 is 0), but this is not always the case. The index value can be a non-integer, but its position will always be an integer from 0 to the number of rows minus one."
   ]
  },
  {
   "cell_type": "code",
   "execution_count": null,
   "metadata": {
    "colab": {
     "base_uri": "https://localhost:8080/"
    },
    "id": "eDuNp1G3svJ7",
    "outputId": "add668b3-9582-48a4-aae5-a474f986801b"
   },
   "outputs": [],
   "source": [
    "first_row = df.loc[0]\n",
    "print(first_row)"
   ]
  },
  {
   "cell_type": "markdown",
   "metadata": {
    "id": "gqVB09JWsvJ-"
   },
   "source": [
    "For multiple rows, we can pass a list of rows, or a range using `df_name.loc[[values_list]]` or `df_name.loc[start_value:end_value]`."
   ]
  },
  {
   "cell_type": "code",
   "execution_count": null,
   "metadata": {
    "colab": {
     "base_uri": "https://localhost:8080/"
    },
    "id": "PT9Ct0g2svJ-",
    "outputId": "c1015cb7-3216-4f68-b9e0-186e77c12f4c"
   },
   "outputs": [],
   "source": [
    "first_five_rows = df.loc[[0,1,2,3,4]] # Access the rows with index 0,1,2,3,4\n",
    "print(first_five_rows)\n",
    "\n",
    "first_five_rows_range = df.loc[0:4] # Access the rows starting with index 0 up to and including index 4\n",
    "print(first_five_rows_range)"
   ]
  },
  {
   "cell_type": "markdown",
   "metadata": {
    "id": "SUVyT6X7zi1U"
   },
   "source": [
    "**Challenge**: Print out rows with index values 1000 to 2000, then print out rows with index values 1000, 1500, and 2000."
   ]
  },
  {
   "cell_type": "code",
   "execution_count": null,
   "metadata": {
    "colab": {
     "base_uri": "https://localhost:8080/"
    },
    "id": "Iw-y_Y-8zH9C",
    "outputId": "87803df4-636b-483c-c7a0-2744018f7cff"
   },
   "outputs": [],
   "source": [
    "rows_1000_to_2000 = df.loc[1000:2000]\n",
    "# print(rows_1000_to_2000)\n",
    "\n",
    "rows = df.loc[[1000, 1500, 2000]]\n",
    "print(rows)\n",
    "\n",
    "# print(df.loc[1000:2000])\n",
    "# print(df.loc[[1000, 1500, 2000]])"
   ]
  },
  {
   "cell_type": "markdown",
   "metadata": {
    "id": "5tswWZLvsvKD"
   },
   "source": [
    "#### Row Select by Position\n",
    "\n",
    "Instead of using the value of the index, we can also use its position. This is useful if our index values are not common-sense integers. If our index was a string, but we wanted to select the first 20 rows of data, `loc` would not work unless we knew the first 20 values in our index. With the exception of using positions instead of values, `iloc` is quite similar to `loc`. We use the syntax `df_name.iloc[index_position]` for a single row and `df_name.iloc[[positions_list]]` or `df_name.iloc[start_position:end_position]` for multiple rows."
   ]
  },
  {
   "cell_type": "code",
   "execution_count": null,
   "metadata": {
    "colab": {
     "base_uri": "https://localhost:8080/"
    },
    "id": "3DIzyXdzsvKE",
    "outputId": "8c4980f2-0882-42fc-b619-f1e874244fd4"
   },
   "outputs": [],
   "source": [
    "row_at_position_4 = df.iloc[4] # Access row with position 4\n",
    "# print(row_at_position_4)\n",
    "\n",
    "last_five_rows = df.iloc[[-5,-4,-3,-2,-1]] # Access rows with positions -5,-4,-3,-2,-1\n",
    "# print(last_five_rows)\n",
    "\n",
    "last_five_rows_range = df.iloc[-5:] # Access rows with positions -5 to the end\n",
    "print(last_five_rows_range)"
   ]
  },
  {
   "cell_type": "markdown",
   "metadata": {
    "id": "DWhup17x0vXU"
   },
   "source": [
    "**Challenge**: Select the last 2000 rows in the dataframe **except for the last row**. Hint: the last row always has position -1."
   ]
  },
  {
   "cell_type": "code",
   "execution_count": null,
   "metadata": {
    "colab": {
     "base_uri": "https://localhost:8080/"
    },
    "id": "2pshtfYG0jtf",
    "outputId": "592c6575-a02f-4c62-a6de-a22871d498c8"
   },
   "outputs": [],
   "source": [
    "print(df.iloc[2000: -1])"
   ]
  },
  {
   "cell_type": "markdown",
   "metadata": {
    "id": "noIrborNsvKH"
   },
   "source": [
    "### Subsection Select"
   ]
  },
  {
   "cell_type": "markdown",
   "metadata": {
    "id": "tT0GrqZ8svKI"
   },
   "source": [
    "To select a subsection of rows and columns at the same time, we can use either `df_name.loc[row_values, column_values]` or `df_name.iloc[row_positions, column_positions]`. The key difference is `loc` takes the value itself, whereas `iloc` takes the position."
   ]
  },
  {
   "cell_type": "code",
   "execution_count": null,
   "metadata": {
    "colab": {
     "base_uri": "https://localhost:8080/"
    },
    "id": "-QO_tETxsvKJ",
    "outputId": "58ca77da-c4c3-41ae-a05d-b89e1f23937d"
   },
   "outputs": [],
   "source": [
    "first_5_close_and_vol = df.loc[[0,1,2,3,4], ['close', 'volume']] # Access the 'close' and 'volume' columns for the rows with index values 0,1,2,3,4\n",
    "# print(first_5_close_and_vol)\n",
    "\n",
    "last_2_date_close_and_volume = df.iloc[-3:-1, [0,4,5]] # Access the 'date' and 'close' and 'volume' columns for rows with index position -2 to the end\n",
    "print(last_2_date_close_and_volume)"
   ]
  },
  {
   "cell_type": "markdown",
   "metadata": {
    "id": "62uinf9xsvKM"
   },
   "source": [
    "**Challenge**: Select and display the `high` and `low` prices for the first row, last row, and row 5000 using both `loc` and `iloc`. When you use `iloc`, try to ensure it accesses the last row regardless of the number of rows in the dataframe."
   ]
  },
  {
   "cell_type": "code",
   "execution_count": null,
   "metadata": {
    "colab": {
     "base_uri": "https://localhost:8080/"
    },
    "id": "zLK5ELOO14fP",
    "outputId": "fcca2180-5284-428a-8289-3939147f3315"
   },
   "outputs": [],
   "source": [
    "# print(df.loc[[0, 5000, 8633], ['high', 'low']])\n",
    "# print(df.iloc[[0, 5000, -1], [2, 3]])\n",
    "\n",
    "rows = df.loc[[0, 5000, len(df) - 1], [\"high\", \"low\"]]\n",
    "print(rows)\n",
    "\n",
    "rows_2 = df.iloc[[0, 5000, -1], [2, 3]]\n",
    "print(rows_2)"
   ]
  },
  {
   "cell_type": "markdown",
   "metadata": {
    "id": "9oqlYzHmsvKM"
   },
   "source": [
    "## 1C: Filtering Data"
   ]
  },
  {
   "cell_type": "markdown",
   "metadata": {
    "id": "nPHlyEA_svKN"
   },
   "source": [
    "Perhaps more interesting than manually selecting data, *filtering* allows us to access a subset of rows based on a condition or set of conditions. For example, if we were only interested in rows where the high price was greater than 1, we would filter out all other rows. To do this, we use the syntax `df_name[condition]`."
   ]
  },
  {
   "cell_type": "code",
   "execution_count": null,
   "metadata": {
    "colab": {
     "base_uri": "https://localhost:8080/"
    },
    "id": "M7vCnZRysvKN",
    "outputId": "37ef4431-5552-4630-8232-f51a33c30089"
   },
   "outputs": [],
   "source": [
    "filtered = df[df['high'] > 1] # Select only the rows where high > 1\n",
    "print(filtered)"
   ]
  },
  {
   "cell_type": "markdown",
   "metadata": {
    "id": "DoCFInoLsvKP"
   },
   "source": [
    "We can combine more than one condition using the bitwise comparators `&` (and) and `|` (or). If we wanted the rows where `volume` was larger than 35 Million and `close` was greater than 184, we could combine the two conditions with `&`."
   ]
  },
  {
   "cell_type": "code",
   "execution_count": null,
   "metadata": {
    "colab": {
     "base_uri": "https://localhost:8080/"
    },
    "id": "oh0Lf6llsvKQ",
    "outputId": "e30a8cfe-adda-4a6e-90bd-ddeec4ccda34"
   },
   "outputs": [],
   "source": [
    "filtered = df[(df['volume'] > 35000000) & (df['close'] > 184)]\n",
    "print(filtered)"
   ]
  },
  {
   "cell_type": "markdown",
   "metadata": {
    "id": "x52sRGBOsvKS"
   },
   "source": [
    "Notice that the number of rows decreases the more conditions we combine. This makes sense, because as we combine conditions, more rows fail to meet the criteria and are filtered out, resulting in a smaller DataFrame.\n",
    "\n",
    "**Challenge**: Try selecting and displaying only the rows where the difference between the open and close price is greater than 5. Note: you can get the difference between two columns by subtracting them."
   ]
  },
  {
   "cell_type": "code",
   "execution_count": null,
   "metadata": {
    "id": "6LYqaAwBsvKT"
   },
   "outputs": [],
   "source": [
    "result = df[(df[\"open\"] - df[\"close\"]) > 5]\n",
    "print(result)"
   ]
  }
 ],
 "metadata": {
  "colab": {
   "name": "1-Introduction-to-Pandas-DataFrames.ipynb",
   "provenance": []
  },
  "kernelspec": {
   "display_name": "Python 3",
   "language": "python",
   "name": "python3"
  },
  "language_info": {
   "codemirror_mode": {
    "name": "ipython",
    "version": 3
   },
   "file_extension": ".py",
   "mimetype": "text/x-python",
   "name": "python",
   "nbconvert_exporter": "python",
   "pygments_lexer": "ipython3",
   "version": "3.13.1"
  }
 },
 "nbformat": 4,
 "nbformat_minor": 4
}
